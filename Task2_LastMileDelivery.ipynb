{
 "cells": [
  {
   "cell_type": "markdown",
   "id": "555bb346-d4ed-46e1-a031-e4823c7c7ed2",
   "metadata": {},
   "source": [
    "# Innomatics Research Labs\n",
    "## Internship September\n",
    "### Task_2 - Last Mile Delivery Analysis\n",
    "\n",
    "\n",
    "\n",
    "##### <u>PROBLEM STATEMENT</u>\n",
    "* Kanav has started an online pizza store (franchise DIMINOS)\n",
    "* Audit Schedule for kanav\n",
    "* Kanav's concern - Delivery Time(within 30 mins after order placed) and Customer Satisfaction(quality of product-pizza)\n",
    "* Facing difficulty in capacity planning for delivery fleet\n",
    "\n",
    "\n",
    "\n",
    "##### <u>TASK STATEMENT</u>\n",
    "* Understand store performance - potential areas for improvement\n",
    "* Analyze order arrival and delivery times\n",
    "* Give insights to keep his business up and running\n",
    "\n",
    "\n"
   ]
  },
  {
   "cell_type": "markdown",
   "id": "9ee1591f-d47d-468a-9328-0aaa06266629",
   "metadata": {},
   "source": [
    "#### Import Libraries"
   ]
  },
  {
   "cell_type": "code",
   "execution_count": 235,
   "id": "d0f85c66-6d05-4fa9-90ef-5a384fcc36fd",
   "metadata": {},
   "outputs": [],
   "source": [
    "import pandas as pd\n",
    "import numpy as np\n",
    "from datetime import datetime"
   ]
  },
  {
   "cell_type": "markdown",
   "id": "c53ba97c-95ab-4cf5-9f83-4072ba1f7620",
   "metadata": {},
   "source": [
    "#### Data Description\n",
    "There are 4 datasets with following features, given for this problem statement i.e. \n",
    "* <b>Deliveries</b> -   : Order_Id , Time_stamp , Status \n",
    "* <b>Order_Items</b> -  : Order_Id , Items_Ordered\n",
    "* <b>Orders</b> -       : Order_Id , OrderPlacedAt\n",
    "* <b>Products</b> -     : Item_id, Categories, Items, Size, Price"
   ]
  },
  {
   "cell_type": "code",
   "execution_count": 238,
   "id": "1d974a59-30cd-4db0-9833-094640aad074",
   "metadata": {},
   "outputs": [],
   "source": [
    "#Load Datasets\n",
    "deliveries_df = pd.read_csv(\"deliveries.csv\")\n",
    "orders_df = pd.read_csv(\"orders.csv\")"
   ]
  },
  {
   "cell_type": "code",
   "execution_count": 240,
   "id": "dbdcf705-b926-42b6-9351-c6d08f7da1e3",
   "metadata": {},
   "outputs": [
    {
     "data": {
      "text/html": [
       "<div>\n",
       "<style scoped>\n",
       "    .dataframe tbody tr th:only-of-type {\n",
       "        vertical-align: middle;\n",
       "    }\n",
       "\n",
       "    .dataframe tbody tr th {\n",
       "        vertical-align: top;\n",
       "    }\n",
       "\n",
       "    .dataframe thead th {\n",
       "        text-align: right;\n",
       "    }\n",
       "</style>\n",
       "<table border=\"1\" class=\"dataframe\">\n",
       "  <thead>\n",
       "    <tr style=\"text-align: right;\">\n",
       "      <th></th>\n",
       "      <th>order_id</th>\n",
       "      <th>time_stamp</th>\n",
       "      <th>status</th>\n",
       "    </tr>\n",
       "  </thead>\n",
       "  <tbody>\n",
       "    <tr>\n",
       "      <th>0</th>\n",
       "      <td>321230114</td>\n",
       "      <td>2020-12-11 00:01:29.000000000</td>\n",
       "      <td>Pending</td>\n",
       "    </tr>\n",
       "    <tr>\n",
       "      <th>1</th>\n",
       "      <td>321230114</td>\n",
       "      <td>2020-12-11 00:06:29.000000000</td>\n",
       "      <td>Out For Delivery</td>\n",
       "    </tr>\n",
       "    <tr>\n",
       "      <th>2</th>\n",
       "      <td>321230114</td>\n",
       "      <td>2020-12-11 00:19:13.299151076</td>\n",
       "      <td>Delivered</td>\n",
       "    </tr>\n",
       "    <tr>\n",
       "      <th>3</th>\n",
       "      <td>321230115</td>\n",
       "      <td>2020-12-11 00:36:02.000000000</td>\n",
       "      <td>Pending</td>\n",
       "    </tr>\n",
       "    <tr>\n",
       "      <th>4</th>\n",
       "      <td>321230115</td>\n",
       "      <td>2020-12-11 00:41:02.000000000</td>\n",
       "      <td>Out For Delivery</td>\n",
       "    </tr>\n",
       "  </tbody>\n",
       "</table>\n",
       "</div>"
      ],
      "text/plain": [
       "    order_id                     time_stamp            status\n",
       "0  321230114  2020-12-11 00:01:29.000000000           Pending\n",
       "1  321230114  2020-12-11 00:06:29.000000000  Out For Delivery\n",
       "2  321230114  2020-12-11 00:19:13.299151076         Delivered\n",
       "3  321230115  2020-12-11 00:36:02.000000000           Pending\n",
       "4  321230115  2020-12-11 00:41:02.000000000  Out For Delivery"
      ]
     },
     "execution_count": 240,
     "metadata": {},
     "output_type": "execute_result"
    }
   ],
   "source": [
    "deliveries_df.head()"
   ]
  },
  {
   "cell_type": "code",
   "execution_count": 242,
   "id": "c25e6368-f97e-404b-93b1-9a86ec035e28",
   "metadata": {},
   "outputs": [
    {
     "data": {
      "text/html": [
       "<div>\n",
       "<style scoped>\n",
       "    .dataframe tbody tr th:only-of-type {\n",
       "        vertical-align: middle;\n",
       "    }\n",
       "\n",
       "    .dataframe tbody tr th {\n",
       "        vertical-align: top;\n",
       "    }\n",
       "\n",
       "    .dataframe thead th {\n",
       "        text-align: right;\n",
       "    }\n",
       "</style>\n",
       "<table border=\"1\" class=\"dataframe\">\n",
       "  <thead>\n",
       "    <tr style=\"text-align: right;\">\n",
       "      <th></th>\n",
       "      <th>order_id</th>\n",
       "      <th>order_placed_at</th>\n",
       "    </tr>\n",
       "  </thead>\n",
       "  <tbody>\n",
       "    <tr>\n",
       "      <th>0</th>\n",
       "      <td>321230114</td>\n",
       "      <td>2020-12-11 00:01:29</td>\n",
       "    </tr>\n",
       "    <tr>\n",
       "      <th>1</th>\n",
       "      <td>321230115</td>\n",
       "      <td>2020-12-11 00:36:02</td>\n",
       "    </tr>\n",
       "    <tr>\n",
       "      <th>2</th>\n",
       "      <td>321230116</td>\n",
       "      <td>2020-12-11 00:55:01</td>\n",
       "    </tr>\n",
       "    <tr>\n",
       "      <th>3</th>\n",
       "      <td>321230117</td>\n",
       "      <td>2020-12-11 01:05:27</td>\n",
       "    </tr>\n",
       "    <tr>\n",
       "      <th>4</th>\n",
       "      <td>321230118</td>\n",
       "      <td>2020-12-11 01:14:20</td>\n",
       "    </tr>\n",
       "  </tbody>\n",
       "</table>\n",
       "</div>"
      ],
      "text/plain": [
       "    order_id      order_placed_at\n",
       "0  321230114  2020-12-11 00:01:29\n",
       "1  321230115  2020-12-11 00:36:02\n",
       "2  321230116  2020-12-11 00:55:01\n",
       "3  321230117  2020-12-11 01:05:27\n",
       "4  321230118  2020-12-11 01:14:20"
      ]
     },
     "execution_count": 242,
     "metadata": {},
     "output_type": "execute_result"
    }
   ],
   "source": [
    "orders_df.head()"
   ]
  },
  {
   "cell_type": "code",
   "execution_count": 244,
   "id": "d782a954-f6a1-4d27-8bce-d94a009ece62",
   "metadata": {},
   "outputs": [
    {
     "data": {
      "text/plain": [
       "Index(['order_id', 'time_stamp', 'status'], dtype='object')"
      ]
     },
     "execution_count": 244,
     "metadata": {},
     "output_type": "execute_result"
    }
   ],
   "source": [
    "deliveries_df.columns"
   ]
  },
  {
   "cell_type": "code",
   "execution_count": 246,
   "id": "677483b7-6142-4bd5-9a01-91ef7c054f0f",
   "metadata": {},
   "outputs": [
    {
     "data": {
      "text/plain": [
       "Index(['order_id', 'order_placed_at'], dtype='object')"
      ]
     },
     "execution_count": 246,
     "metadata": {},
     "output_type": "execute_result"
    }
   ],
   "source": [
    "orders_df.columns"
   ]
  },
  {
   "cell_type": "code",
   "execution_count": 248,
   "id": "d452479b-f79c-4c28-ac2b-d4dada1e73d7",
   "metadata": {},
   "outputs": [],
   "source": [
    "#convert datatypes of 'time_stamp' and 'order_placed_at' into datetime format\n",
    "\n",
    "deliveries_df['time_stamp'] = pd.to_datetime(deliveries_df['time_stamp'])\n",
    "orders_df['order_placed_at'] = pd.to_datetime(orders_df['order_placed_at'])"
   ]
  },
  {
   "cell_type": "code",
   "execution_count": 249,
   "id": "4ccb9f10-d12f-445c-90d8-477728f38e4a",
   "metadata": {},
   "outputs": [
    {
     "name": "stdout",
     "output_type": "stream",
     "text": [
      "<class 'pandas.core.frame.DataFrame'>\n",
      "RangeIndex: 1363008 entries, 0 to 1363007\n",
      "Data columns (total 3 columns):\n",
      " #   Column      Non-Null Count    Dtype         \n",
      "---  ------      --------------    -----         \n",
      " 0   order_id    1363008 non-null  int64         \n",
      " 1   time_stamp  1363008 non-null  datetime64[ns]\n",
      " 2   status      1363008 non-null  object        \n",
      "dtypes: datetime64[ns](1), int64(1), object(1)\n",
      "memory usage: 31.2+ MB\n"
     ]
    }
   ],
   "source": [
    "deliveries_df.info()"
   ]
  },
  {
   "cell_type": "code",
   "execution_count": 252,
   "id": "58a376ed-8957-4795-abc8-bb8c26c364a9",
   "metadata": {},
   "outputs": [
    {
     "name": "stdout",
     "output_type": "stream",
     "text": [
      "<class 'pandas.core.frame.DataFrame'>\n",
      "RangeIndex: 454336 entries, 0 to 454335\n",
      "Data columns (total 2 columns):\n",
      " #   Column           Non-Null Count   Dtype         \n",
      "---  ------           --------------   -----         \n",
      " 0   order_id         454336 non-null  int64         \n",
      " 1   order_placed_at  454336 non-null  datetime64[ns]\n",
      "dtypes: datetime64[ns](1), int64(1)\n",
      "memory usage: 6.9 MB\n"
     ]
    }
   ],
   "source": [
    "orders_df.info()"
   ]
  },
  {
   "cell_type": "code",
   "execution_count": 254,
   "id": "854c5bbd-6a65-4936-8cc3-68461705b04a",
   "metadata": {},
   "outputs": [],
   "source": [
    "#filter the deliveries to keep only delievred orders\n",
    "#we want to keep those rows only where the status is \"Delivered\"\n",
    "\n",
    "#Filter deliveries with \"Delivered\" status and make an explicit copy\n",
    "delivered_orders = deliveries_df[deliveries_df['status'] == 'Delivered'].copy()"
   ]
  },
  {
   "cell_type": "code",
   "execution_count": 256,
   "id": "2bf3cb37-dc51-47a4-bf11-8bce06e3d038",
   "metadata": {},
   "outputs": [
    {
     "name": "stdout",
     "output_type": "stream",
     "text": [
      "<class 'pandas.core.frame.DataFrame'>\n",
      "Index: 454336 entries, 2 to 1363007\n",
      "Data columns (total 3 columns):\n",
      " #   Column      Non-Null Count   Dtype         \n",
      "---  ------      --------------   -----         \n",
      " 0   order_id    454336 non-null  int64         \n",
      " 1   time_stamp  454336 non-null  datetime64[ns]\n",
      " 2   status      454336 non-null  object        \n",
      "dtypes: datetime64[ns](1), int64(1), object(1)\n",
      "memory usage: 13.9+ MB\n"
     ]
    }
   ],
   "source": [
    "delivered_orders.info()"
   ]
  },
  {
   "cell_type": "code",
   "execution_count": null,
   "id": "8130455d-dd32-4e89-a346-b9b7032a3c3f",
   "metadata": {},
   "outputs": [],
   "source": []
  },
  {
   "cell_type": "code",
   "execution_count": 259,
   "id": "6ad41d56-5d47-4775-a59b-4c7af95c476f",
   "metadata": {},
   "outputs": [],
   "source": [
    "#merge the two dataframes- 'delievered_orders' and 'orders' on \"order_id\" \n",
    "#merged data = delivery time data\n",
    "merged_data = pd.merge(delivered_orders, orders_df, on='order_id')"
   ]
  },
  {
   "cell_type": "code",
   "execution_count": 261,
   "id": "22c3413a-f4e3-46ee-a0e0-ab81d99e60a7",
   "metadata": {},
   "outputs": [],
   "source": [
    "#calculate the delivery time - difference between \"order_placed_at\" and \"time_stamp\"\n",
    "# convert into minutes\n",
    "merged_data['delivery_time_minutes'] = (merged_data['time_stamp'] - merged_data['order_placed_at']).dt.total_seconds() / 60\n"
   ]
  },
  {
   "cell_type": "code",
   "execution_count": 263,
   "id": "57c97b94-9c9d-4e6a-be4f-7e95c13e8114",
   "metadata": {},
   "outputs": [
    {
     "name": "stdout",
     "output_type": "stream",
     "text": [
      "Average Delivery Time: 20.65 minutes\n"
     ]
    }
   ],
   "source": [
    "#calculate average delivery time-find mean of column- ['delivery_time_minutes'] \n",
    "average_delivery_time = merged_data['delivery_time_minutes'].mean()\n",
    "print(f'Average Delivery Time: {average_delivery_time:.2f} minutes')"
   ]
  },
  {
   "cell_type": "markdown",
   "id": "502b5df8-dacd-4e24-95de-e5778843da4d",
   "metadata": {},
   "source": [
    "###### <b>Question_1 - What is the average Delivery Time(in minutes) taken by the store to deliver the pizza?</b>\n",
    "\n",
    "###### Answer - Average Delivery Time: 20.65 minutes"
   ]
  },
  {
   "cell_type": "code",
   "execution_count": 266,
   "id": "c0279c6b-5868-48fe-b869-a9d4dd81a1e3",
   "metadata": {},
   "outputs": [
    {
     "data": {
      "text/html": [
       "<div>\n",
       "<style scoped>\n",
       "    .dataframe tbody tr th:only-of-type {\n",
       "        vertical-align: middle;\n",
       "    }\n",
       "\n",
       "    .dataframe tbody tr th {\n",
       "        vertical-align: top;\n",
       "    }\n",
       "\n",
       "    .dataframe thead th {\n",
       "        text-align: right;\n",
       "    }\n",
       "</style>\n",
       "<table border=\"1\" class=\"dataframe\">\n",
       "  <thead>\n",
       "    <tr style=\"text-align: right;\">\n",
       "      <th></th>\n",
       "      <th>delivery_time_minutes</th>\n",
       "    </tr>\n",
       "  </thead>\n",
       "  <tbody>\n",
       "    <tr>\n",
       "      <th>0</th>\n",
       "      <td>17.738319</td>\n",
       "    </tr>\n",
       "    <tr>\n",
       "      <th>1</th>\n",
       "      <td>23.267581</td>\n",
       "    </tr>\n",
       "    <tr>\n",
       "      <th>2</th>\n",
       "      <td>18.852551</td>\n",
       "    </tr>\n",
       "    <tr>\n",
       "      <th>3</th>\n",
       "      <td>17.290501</td>\n",
       "    </tr>\n",
       "    <tr>\n",
       "      <th>4</th>\n",
       "      <td>18.124810</td>\n",
       "    </tr>\n",
       "  </tbody>\n",
       "</table>\n",
       "</div>"
      ],
      "text/plain": [
       "   delivery_time_minutes\n",
       "0              17.738319\n",
       "1              23.267581\n",
       "2              18.852551\n",
       "3              17.290501\n",
       "4              18.124810"
      ]
     },
     "execution_count": 266,
     "metadata": {},
     "output_type": "execute_result"
    }
   ],
   "source": [
    "# Ensure the 'delivery_time_minutes' column exists\n",
    "merged_data[['delivery_time_minutes']].head()\n",
    "#This column should have the time difference in minutes between the order placement and delivery."
   ]
  },
  {
   "cell_type": "code",
   "execution_count": 268,
   "id": "19b486c4-68cd-42e5-b647-836727351a9d",
   "metadata": {},
   "outputs": [
    {
     "name": "stdout",
     "output_type": "stream",
     "text": [
      "99th Percentile Delivery Time: 30.90 minutes\n"
     ]
    }
   ],
   "source": [
    "#Calculate the 99th Percentile Delivery Time-calculate the delivery time below which 99% of all deliveries fall.\n",
    "percentile_99 = np.percentile(merged_data['delivery_time_minutes'], 99)\n",
    "print(f'99th Percentile Delivery Time: {percentile_99:.2f} minutes')"
   ]
  },
  {
   "cell_type": "markdown",
   "id": "18b55afa-f696-42f9-8aea-f31626188617",
   "metadata": {},
   "source": [
    "###### <b>Question_2 - What is the 99th percentile Delivery Time (in minutes) taken by the store to deliver the Pizza?</b>\n",
    "\n",
    "###### Answer - 99th Percentile Delivery Time: 30.90 minutes."
   ]
  },
  {
   "cell_type": "markdown",
   "id": "380a3ffc-6fdf-40f4-8224-6590598db304",
   "metadata": {},
   "source": [
    "###### <b>Question_3 - Which metric is the better choice to determine the stores performance based on Delivery Time?</b>\n",
    "\n",
    "###### Answer -The 99th percentile delivery time is the better metric to assess the store’s performance because it tells the time by which nearly all customers (99%) receive their orders within 30.90 minutes."
   ]
  },
  {
   "cell_type": "code",
   "execution_count": 272,
   "id": "32a9d174-ff1d-4000-8e16-e7d5355e6435",
   "metadata": {},
   "outputs": [
    {
     "data": {
      "text/html": [
       "<div>\n",
       "<style scoped>\n",
       "    .dataframe tbody tr th:only-of-type {\n",
       "        vertical-align: middle;\n",
       "    }\n",
       "\n",
       "    .dataframe tbody tr th {\n",
       "        vertical-align: top;\n",
       "    }\n",
       "\n",
       "    .dataframe thead th {\n",
       "        text-align: right;\n",
       "    }\n",
       "</style>\n",
       "<table border=\"1\" class=\"dataframe\">\n",
       "  <thead>\n",
       "    <tr style=\"text-align: right;\">\n",
       "      <th></th>\n",
       "      <th>order_id</th>\n",
       "      <th>time_stamp</th>\n",
       "      <th>status</th>\n",
       "      <th>order_placed_at</th>\n",
       "      <th>delivery_time_minutes</th>\n",
       "    </tr>\n",
       "  </thead>\n",
       "  <tbody>\n",
       "    <tr>\n",
       "      <th>0</th>\n",
       "      <td>321230114</td>\n",
       "      <td>2020-12-11 00:19:13.299151076</td>\n",
       "      <td>Delivered</td>\n",
       "      <td>2020-12-11 00:01:29</td>\n",
       "      <td>17.738319</td>\n",
       "    </tr>\n",
       "    <tr>\n",
       "      <th>1</th>\n",
       "      <td>321230115</td>\n",
       "      <td>2020-12-11 00:59:18.054846609</td>\n",
       "      <td>Delivered</td>\n",
       "      <td>2020-12-11 00:36:02</td>\n",
       "      <td>23.267581</td>\n",
       "    </tr>\n",
       "    <tr>\n",
       "      <th>2</th>\n",
       "      <td>321230116</td>\n",
       "      <td>2020-12-11 01:13:52.153042625</td>\n",
       "      <td>Delivered</td>\n",
       "      <td>2020-12-11 00:55:01</td>\n",
       "      <td>18.852551</td>\n",
       "    </tr>\n",
       "    <tr>\n",
       "      <th>3</th>\n",
       "      <td>321230117</td>\n",
       "      <td>2020-12-11 01:22:44.430088094</td>\n",
       "      <td>Delivered</td>\n",
       "      <td>2020-12-11 01:05:27</td>\n",
       "      <td>17.290501</td>\n",
       "    </tr>\n",
       "    <tr>\n",
       "      <th>4</th>\n",
       "      <td>321230118</td>\n",
       "      <td>2020-12-11 01:32:27.488575946</td>\n",
       "      <td>Delivered</td>\n",
       "      <td>2020-12-11 01:14:20</td>\n",
       "      <td>18.124810</td>\n",
       "    </tr>\n",
       "  </tbody>\n",
       "</table>\n",
       "</div>"
      ],
      "text/plain": [
       "    order_id                    time_stamp     status     order_placed_at  \\\n",
       "0  321230114 2020-12-11 00:19:13.299151076  Delivered 2020-12-11 00:01:29   \n",
       "1  321230115 2020-12-11 00:59:18.054846609  Delivered 2020-12-11 00:36:02   \n",
       "2  321230116 2020-12-11 01:13:52.153042625  Delivered 2020-12-11 00:55:01   \n",
       "3  321230117 2020-12-11 01:22:44.430088094  Delivered 2020-12-11 01:05:27   \n",
       "4  321230118 2020-12-11 01:32:27.488575946  Delivered 2020-12-11 01:14:20   \n",
       "\n",
       "   delivery_time_minutes  \n",
       "0              17.738319  \n",
       "1              23.267581  \n",
       "2              18.852551  \n",
       "3              17.290501  \n",
       "4              18.124810  "
      ]
     },
     "execution_count": 272,
     "metadata": {},
     "output_type": "execute_result"
    }
   ],
   "source": [
    "merged_data.head()"
   ]
  },
  {
   "cell_type": "code",
   "execution_count": 274,
   "id": "e774b01f-7d57-4ccb-b6d3-f721c8a1e9ad",
   "metadata": {},
   "outputs": [],
   "source": [
    "# Find the row with the maximum delivery time\n",
    "max_deliveryTime_row = merged_data.loc[merged_data['delivery_time_minutes'].idxmax()]"
   ]
  },
  {
   "cell_type": "code",
   "execution_count": 276,
   "id": "5e4728f8-3a9b-4e55-ae69-e65f68d176f3",
   "metadata": {},
   "outputs": [
    {
     "data": {
      "text/plain": [
       "order_id                                     321629049\n",
       "time_stamp               2023-09-21 16:52:49.724687723\n",
       "status                                       Delivered\n",
       "order_placed_at                    2023-09-21 15:49:55\n",
       "delivery_time_minutes                        62.912078\n",
       "Name: 398957, dtype: object"
      ]
     },
     "execution_count": 276,
     "metadata": {},
     "output_type": "execute_result"
    }
   ],
   "source": [
    "max_deliveryTime_row"
   ]
  },
  {
   "cell_type": "code",
   "execution_count": 278,
   "id": "31f57cfe-f468-44ba-bf0d-dac4dd38b4fc",
   "metadata": {},
   "outputs": [],
   "source": [
    "# Extract the order ID and maximum delivery time\n",
    "max_order_id = max_deliveryTime_row['order_id']\n",
    "max_delivery_time = max_deliveryTime_row['delivery_time_minutes']"
   ]
  },
  {
   "cell_type": "code",
   "execution_count": 280,
   "id": "68a7a573-3a11-4880-a7ac-bdca49da60d8",
   "metadata": {},
   "outputs": [
    {
     "name": "stdout",
     "output_type": "stream",
     "text": [
      "Order ID with the maximum delivery time: 321629049\n",
      "Maximum Delivery Time: 62.91 minutes\n"
     ]
    }
   ],
   "source": [
    "print(f\"Order ID with the maximum delivery time: {max_order_id}\")\n",
    "print(f\"Maximum Delivery Time: {max_delivery_time:.2f} minutes\")"
   ]
  },
  {
   "cell_type": "markdown",
   "id": "147821bc-b42f-4244-9a29-b3f6018644f2",
   "metadata": {},
   "source": [
    "###### <b>Question_4 - What is the order id with the maximum delivery time?</b>\n",
    "###### Answer - Order ID with the maximum delivery time: 321629049. (Maximum Delivery Time: 62.91 minutes)\n",
    "\n"
   ]
  },
  {
   "cell_type": "code",
   "execution_count": 283,
   "id": "1eebb559-9e5a-4670-860a-51f9d4d389b2",
   "metadata": {},
   "outputs": [
    {
     "data": {
      "text/html": [
       "<div>\n",
       "<style scoped>\n",
       "    .dataframe tbody tr th:only-of-type {\n",
       "        vertical-align: middle;\n",
       "    }\n",
       "\n",
       "    .dataframe tbody tr th {\n",
       "        vertical-align: top;\n",
       "    }\n",
       "\n",
       "    .dataframe thead th {\n",
       "        text-align: right;\n",
       "    }\n",
       "</style>\n",
       "<table border=\"1\" class=\"dataframe\">\n",
       "  <thead>\n",
       "    <tr style=\"text-align: right;\">\n",
       "      <th></th>\n",
       "      <th>order_id</th>\n",
       "      <th>order_placed_at</th>\n",
       "    </tr>\n",
       "  </thead>\n",
       "  <tbody>\n",
       "    <tr>\n",
       "      <th>0</th>\n",
       "      <td>321230114</td>\n",
       "      <td>2020-12-11 00:01:29</td>\n",
       "    </tr>\n",
       "    <tr>\n",
       "      <th>1</th>\n",
       "      <td>321230115</td>\n",
       "      <td>2020-12-11 00:36:02</td>\n",
       "    </tr>\n",
       "    <tr>\n",
       "      <th>2</th>\n",
       "      <td>321230116</td>\n",
       "      <td>2020-12-11 00:55:01</td>\n",
       "    </tr>\n",
       "    <tr>\n",
       "      <th>3</th>\n",
       "      <td>321230117</td>\n",
       "      <td>2020-12-11 01:05:27</td>\n",
       "    </tr>\n",
       "    <tr>\n",
       "      <th>4</th>\n",
       "      <td>321230118</td>\n",
       "      <td>2020-12-11 01:14:20</td>\n",
       "    </tr>\n",
       "  </tbody>\n",
       "</table>\n",
       "</div>"
      ],
      "text/plain": [
       "    order_id     order_placed_at\n",
       "0  321230114 2020-12-11 00:01:29\n",
       "1  321230115 2020-12-11 00:36:02\n",
       "2  321230116 2020-12-11 00:55:01\n",
       "3  321230117 2020-12-11 01:05:27\n",
       "4  321230118 2020-12-11 01:14:20"
      ]
     },
     "execution_count": 283,
     "metadata": {},
     "output_type": "execute_result"
    }
   ],
   "source": [
    "orders_df.head()"
   ]
  },
  {
   "cell_type": "code",
   "execution_count": 285,
   "id": "f31bd0fc-37b7-4864-a849-75926f89b52e",
   "metadata": {},
   "outputs": [
    {
     "name": "stdout",
     "output_type": "stream",
     "text": [
      "Number of pizzas ordered between 1st and 31st January 2024: 11894\n"
     ]
    }
   ],
   "source": [
    "#orders_df.info()\n",
    "#Define the date range for January 2024\n",
    "start_date = '2024-01-01'\n",
    "end_date = '2024-01-31'\n",
    "#Filter orders within the date range\n",
    "january_orders = orders_df[(orders_df['order_placed_at'] >= start_date) & (orders_df['order_placed_at'] <= end_date)]\n",
    "#Count the number of orders\n",
    "number_of_orders = january_orders.shape[0]\n",
    "print(f\"Number of pizzas ordered between 1st and 31st January 2024: {number_of_orders}\")"
   ]
  },
  {
   "cell_type": "markdown",
   "id": "4571a260-bb1c-4d6e-933d-1e1040344eb6",
   "metadata": {},
   "source": [
    "###### <b>Question_5 - How many pizza's were ordered between 1st January and 31st January 2024 (INCLUSIVE)?</b>\n",
    "\n",
    "###### Answer - Number of pizzas ordered between 1st and 31st January 2024: 11894"
   ]
  },
  {
   "cell_type": "code",
   "execution_count": 288,
   "id": "7cfdee97-1b20-4af0-a33f-2155e899f8c3",
   "metadata": {},
   "outputs": [],
   "source": [
    "#Filter orders that were placed in the date range\n",
    "january_orders = merged_data[(merged_data['order_placed_at'] >= start_date) & (merged_data['order_placed_at'] <= end_date)]\n",
    "#january_orders"
   ]
  },
  {
   "cell_type": "code",
   "execution_count": 290,
   "id": "43ba1339-4a27-48a1-953d-0ca3be6996ab",
   "metadata": {},
   "outputs": [
    {
     "name": "stdout",
     "output_type": "stream",
     "text": [
      "Number of orders that took more than 30 minutes to deliver in January 2024: 158\n"
     ]
    }
   ],
   "source": [
    "#Filter orders where the delivery time is greater than 30 minutes\n",
    "orders_over_30_min = january_orders[january_orders['delivery_time_minutes'] > 30]\n",
    "\n",
    "#Count the number of such orders\n",
    "numberOforders_over_30_min = orders_over_30_min.shape[0]\n",
    "print(f\"Number of orders that took more than 30 minutes to deliver in January 2024: {numberOforders_over_30_min}\")"
   ]
  },
  {
   "cell_type": "markdown",
   "id": "1be8276b-97c5-427e-8f13-93438ea0c981",
   "metadata": {},
   "source": [
    "###### <b>Question_6 - How many order took more than 30 minutes to deliver between 1st January and 31st January 2024 (INCLUSIVE)?</b>\n",
    "######                 <b>This is important as Diminos promise 30 minutes delivery. For any pizza delivered after 30 minutes, customer will get a full refund.</b>\n",
    "\n",
    "###### Answer - Number of orders that took more than 30 minutes to deliver in January 2024: 158"
   ]
  },
  {
   "cell_type": "code",
   "execution_count": 293,
   "id": "396ceda5-f303-4007-8e89-dcc59820940a",
   "metadata": {},
   "outputs": [],
   "source": [
    "order_items_df = pd.read_csv(\"order_items.csv\")\n",
    "products_df = pd.read_csv(\"products.csv\")"
   ]
  },
  {
   "cell_type": "code",
   "execution_count": 295,
   "id": "9d1ed017-6cfd-47fd-bff7-3ae5493ccb02",
   "metadata": {},
   "outputs": [
    {
     "data": {
      "text/html": [
       "<div>\n",
       "<style scoped>\n",
       "    .dataframe tbody tr th:only-of-type {\n",
       "        vertical-align: middle;\n",
       "    }\n",
       "\n",
       "    .dataframe tbody tr th {\n",
       "        vertical-align: top;\n",
       "    }\n",
       "\n",
       "    .dataframe thead th {\n",
       "        text-align: right;\n",
       "    }\n",
       "</style>\n",
       "<table border=\"1\" class=\"dataframe\">\n",
       "  <thead>\n",
       "    <tr style=\"text-align: right;\">\n",
       "      <th></th>\n",
       "      <th>order_id</th>\n",
       "      <th>items_ordered</th>\n",
       "    </tr>\n",
       "  </thead>\n",
       "  <tbody>\n",
       "    <tr>\n",
       "      <th>0</th>\n",
       "      <td>321230114</td>\n",
       "      <td>['p_025', 'p_032', 'p_037']</td>\n",
       "    </tr>\n",
       "    <tr>\n",
       "      <th>1</th>\n",
       "      <td>321230115</td>\n",
       "      <td>['p_017', 'p_012']</td>\n",
       "    </tr>\n",
       "    <tr>\n",
       "      <th>2</th>\n",
       "      <td>321230116</td>\n",
       "      <td>['p_027', 'p_037']</td>\n",
       "    </tr>\n",
       "    <tr>\n",
       "      <th>3</th>\n",
       "      <td>321230117</td>\n",
       "      <td>['p_004', 'p_029']</td>\n",
       "    </tr>\n",
       "    <tr>\n",
       "      <th>4</th>\n",
       "      <td>321230118</td>\n",
       "      <td>['p_017', 'p_037']</td>\n",
       "    </tr>\n",
       "  </tbody>\n",
       "</table>\n",
       "</div>"
      ],
      "text/plain": [
       "    order_id                items_ordered\n",
       "0  321230114  ['p_025', 'p_032', 'p_037']\n",
       "1  321230115           ['p_017', 'p_012']\n",
       "2  321230116           ['p_027', 'p_037']\n",
       "3  321230117           ['p_004', 'p_029']\n",
       "4  321230118           ['p_017', 'p_037']"
      ]
     },
     "execution_count": 295,
     "metadata": {},
     "output_type": "execute_result"
    }
   ],
   "source": [
    "order_items_df.head()"
   ]
  },
  {
   "cell_type": "code",
   "execution_count": 297,
   "id": "30cf4f44-f5d5-4c08-a58b-11c1fc7261ee",
   "metadata": {},
   "outputs": [
    {
     "data": {
      "text/html": [
       "<div>\n",
       "<style scoped>\n",
       "    .dataframe tbody tr th:only-of-type {\n",
       "        vertical-align: middle;\n",
       "    }\n",
       "\n",
       "    .dataframe tbody tr th {\n",
       "        vertical-align: top;\n",
       "    }\n",
       "\n",
       "    .dataframe thead th {\n",
       "        text-align: right;\n",
       "    }\n",
       "</style>\n",
       "<table border=\"1\" class=\"dataframe\">\n",
       "  <thead>\n",
       "    <tr style=\"text-align: right;\">\n",
       "      <th></th>\n",
       "      <th>item_id</th>\n",
       "      <th>category</th>\n",
       "      <th>Item</th>\n",
       "      <th>Size</th>\n",
       "      <th>Price</th>\n",
       "    </tr>\n",
       "  </thead>\n",
       "  <tbody>\n",
       "    <tr>\n",
       "      <th>0</th>\n",
       "      <td>p_001</td>\n",
       "      <td>Veg</td>\n",
       "      <td>Margherita</td>\n",
       "      <td>Regular</td>\n",
       "      <td>109</td>\n",
       "    </tr>\n",
       "    <tr>\n",
       "      <th>1</th>\n",
       "      <td>p_002</td>\n",
       "      <td>Veg</td>\n",
       "      <td>Margherita</td>\n",
       "      <td>Medium</td>\n",
       "      <td>245</td>\n",
       "    </tr>\n",
       "    <tr>\n",
       "      <th>2</th>\n",
       "      <td>p_003</td>\n",
       "      <td>Veg</td>\n",
       "      <td>Margherita</td>\n",
       "      <td>Large</td>\n",
       "      <td>455</td>\n",
       "    </tr>\n",
       "    <tr>\n",
       "      <th>3</th>\n",
       "      <td>p_004</td>\n",
       "      <td>Veg</td>\n",
       "      <td>Double Cheese Margherita</td>\n",
       "      <td>Regular</td>\n",
       "      <td>215</td>\n",
       "    </tr>\n",
       "    <tr>\n",
       "      <th>4</th>\n",
       "      <td>p_005</td>\n",
       "      <td>Veg</td>\n",
       "      <td>Double Cheese Margherita</td>\n",
       "      <td>Medium</td>\n",
       "      <td>385</td>\n",
       "    </tr>\n",
       "  </tbody>\n",
       "</table>\n",
       "</div>"
      ],
      "text/plain": [
       "  item_id category                      Item     Size  Price\n",
       "0   p_001      Veg                Margherita  Regular    109\n",
       "1   p_002      Veg                Margherita   Medium    245\n",
       "2   p_003      Veg                Margherita    Large    455\n",
       "3   p_004      Veg  Double Cheese Margherita  Regular    215\n",
       "4   p_005      Veg  Double Cheese Margherita   Medium    385"
      ]
     },
     "execution_count": 297,
     "metadata": {},
     "output_type": "execute_result"
    }
   ],
   "source": [
    "products_df.head()"
   ]
  },
  {
   "cell_type": "code",
   "execution_count": 299,
   "id": "bd0c43cf-1f54-4874-9890-404100663254",
   "metadata": {},
   "outputs": [
    {
     "data": {
      "text/html": [
       "<div>\n",
       "<style scoped>\n",
       "    .dataframe tbody tr th:only-of-type {\n",
       "        vertical-align: middle;\n",
       "    }\n",
       "\n",
       "    .dataframe tbody tr th {\n",
       "        vertical-align: top;\n",
       "    }\n",
       "\n",
       "    .dataframe thead th {\n",
       "        text-align: right;\n",
       "    }\n",
       "</style>\n",
       "<table border=\"1\" class=\"dataframe\">\n",
       "  <thead>\n",
       "    <tr style=\"text-align: right;\">\n",
       "      <th></th>\n",
       "      <th>order_id</th>\n",
       "      <th>time_stamp</th>\n",
       "      <th>status</th>\n",
       "    </tr>\n",
       "  </thead>\n",
       "  <tbody>\n",
       "    <tr>\n",
       "      <th>871508</th>\n",
       "      <td>321520618</td>\n",
       "      <td>2023-01-01 00:02:59.000000000</td>\n",
       "      <td>Out For Delivery</td>\n",
       "    </tr>\n",
       "    <tr>\n",
       "      <th>871509</th>\n",
       "      <td>321520615</td>\n",
       "      <td>2023-01-01 00:06:16.751226144</td>\n",
       "      <td>Delivered</td>\n",
       "    </tr>\n",
       "    <tr>\n",
       "      <th>871510</th>\n",
       "      <td>321520614</td>\n",
       "      <td>2023-01-01 00:07:13.392937318</td>\n",
       "      <td>Delivered</td>\n",
       "    </tr>\n",
       "    <tr>\n",
       "      <th>871511</th>\n",
       "      <td>321520613</td>\n",
       "      <td>2023-01-01 00:07:33.244922300</td>\n",
       "      <td>Delivered</td>\n",
       "    </tr>\n",
       "    <tr>\n",
       "      <th>871512</th>\n",
       "      <td>321520619</td>\n",
       "      <td>2023-01-01 00:08:58.000000000</td>\n",
       "      <td>Pending</td>\n",
       "    </tr>\n",
       "  </tbody>\n",
       "</table>\n",
       "</div>"
      ],
      "text/plain": [
       "         order_id                    time_stamp            status\n",
       "871508  321520618 2023-01-01 00:02:59.000000000  Out For Delivery\n",
       "871509  321520615 2023-01-01 00:06:16.751226144         Delivered\n",
       "871510  321520614 2023-01-01 00:07:13.392937318         Delivered\n",
       "871511  321520613 2023-01-01 00:07:33.244922300         Delivered\n",
       "871512  321520619 2023-01-01 00:08:58.000000000           Pending"
      ]
     },
     "execution_count": 299,
     "metadata": {},
     "output_type": "execute_result"
    }
   ],
   "source": [
    "deliveries_2023 = deliveries_df[deliveries_df['time_stamp'].dt.year == 2023]\n",
    "deliveries_2023.head()"
   ]
  },
  {
   "cell_type": "code",
   "execution_count": 301,
   "id": "9200c5f0-7200-4994-b7eb-44b7b6525214",
   "metadata": {},
   "outputs": [
    {
     "data": {
      "text/html": [
       "<div>\n",
       "<style scoped>\n",
       "    .dataframe tbody tr th:only-of-type {\n",
       "        vertical-align: middle;\n",
       "    }\n",
       "\n",
       "    .dataframe tbody tr th {\n",
       "        vertical-align: top;\n",
       "    }\n",
       "\n",
       "    .dataframe thead th {\n",
       "        text-align: right;\n",
       "    }\n",
       "</style>\n",
       "<table border=\"1\" class=\"dataframe\">\n",
       "  <thead>\n",
       "    <tr style=\"text-align: right;\">\n",
       "      <th></th>\n",
       "      <th>order_id</th>\n",
       "      <th>order_placed_at</th>\n",
       "    </tr>\n",
       "  </thead>\n",
       "  <tbody>\n",
       "    <tr>\n",
       "      <th>0</th>\n",
       "      <td>321230114</td>\n",
       "      <td>2020-12-11 00:01:29</td>\n",
       "    </tr>\n",
       "    <tr>\n",
       "      <th>1</th>\n",
       "      <td>321230115</td>\n",
       "      <td>2020-12-11 00:36:02</td>\n",
       "    </tr>\n",
       "    <tr>\n",
       "      <th>2</th>\n",
       "      <td>321230116</td>\n",
       "      <td>2020-12-11 00:55:01</td>\n",
       "    </tr>\n",
       "    <tr>\n",
       "      <th>3</th>\n",
       "      <td>321230117</td>\n",
       "      <td>2020-12-11 01:05:27</td>\n",
       "    </tr>\n",
       "    <tr>\n",
       "      <th>4</th>\n",
       "      <td>321230118</td>\n",
       "      <td>2020-12-11 01:14:20</td>\n",
       "    </tr>\n",
       "  </tbody>\n",
       "</table>\n",
       "</div>"
      ],
      "text/plain": [
       "    order_id     order_placed_at\n",
       "0  321230114 2020-12-11 00:01:29\n",
       "1  321230115 2020-12-11 00:36:02\n",
       "2  321230116 2020-12-11 00:55:01\n",
       "3  321230117 2020-12-11 01:05:27\n",
       "4  321230118 2020-12-11 01:14:20"
      ]
     },
     "execution_count": 301,
     "metadata": {},
     "output_type": "execute_result"
    }
   ],
   "source": [
    "orders_df.head()"
   ]
  },
  {
   "cell_type": "code",
   "execution_count": 303,
   "id": "95d79098-2ea3-4561-80bc-25e08a7f4c77",
   "metadata": {},
   "outputs": [],
   "source": [
    "# Merge with the orders table to get the orderPlacedAt timestamp\n",
    "#orders_df['order_placed_at'] = pd.to_datetime(orders_df['order_placed_at'])\n",
    "merged_df = pd.merge(deliveries_2023, orders_df, on='order_id')"
   ]
  },
  {
   "cell_type": "code",
   "execution_count": 305,
   "id": "758912d4-b063-4c91-b0fb-0580554ab758",
   "metadata": {},
   "outputs": [
    {
     "data": {
      "text/html": [
       "<div>\n",
       "<style scoped>\n",
       "    .dataframe tbody tr th:only-of-type {\n",
       "        vertical-align: middle;\n",
       "    }\n",
       "\n",
       "    .dataframe tbody tr th {\n",
       "        vertical-align: top;\n",
       "    }\n",
       "\n",
       "    .dataframe thead th {\n",
       "        text-align: right;\n",
       "    }\n",
       "</style>\n",
       "<table border=\"1\" class=\"dataframe\">\n",
       "  <thead>\n",
       "    <tr style=\"text-align: right;\">\n",
       "      <th></th>\n",
       "      <th>order_id</th>\n",
       "      <th>time_stamp</th>\n",
       "      <th>status</th>\n",
       "      <th>order_placed_at</th>\n",
       "    </tr>\n",
       "  </thead>\n",
       "  <tbody>\n",
       "    <tr>\n",
       "      <th>0</th>\n",
       "      <td>321520618</td>\n",
       "      <td>2023-01-01 00:02:59.000000000</td>\n",
       "      <td>Out For Delivery</td>\n",
       "      <td>2022-12-31 23:57:59</td>\n",
       "    </tr>\n",
       "    <tr>\n",
       "      <th>1</th>\n",
       "      <td>321520618</td>\n",
       "      <td>2023-01-01 00:17:55.509366779</td>\n",
       "      <td>Delivered</td>\n",
       "      <td>2022-12-31 23:57:59</td>\n",
       "    </tr>\n",
       "    <tr>\n",
       "      <th>2</th>\n",
       "      <td>321520615</td>\n",
       "      <td>2023-01-01 00:06:16.751226144</td>\n",
       "      <td>Delivered</td>\n",
       "      <td>2022-12-31 23:47:48</td>\n",
       "    </tr>\n",
       "    <tr>\n",
       "      <th>3</th>\n",
       "      <td>321520614</td>\n",
       "      <td>2023-01-01 00:07:13.392937318</td>\n",
       "      <td>Delivered</td>\n",
       "      <td>2022-12-31 23:49:52</td>\n",
       "    </tr>\n",
       "    <tr>\n",
       "      <th>4</th>\n",
       "      <td>321520613</td>\n",
       "      <td>2023-01-01 00:07:33.244922300</td>\n",
       "      <td>Delivered</td>\n",
       "      <td>2022-12-31 23:45:10</td>\n",
       "    </tr>\n",
       "  </tbody>\n",
       "</table>\n",
       "</div>"
      ],
      "text/plain": [
       "    order_id                    time_stamp            status  \\\n",
       "0  321520618 2023-01-01 00:02:59.000000000  Out For Delivery   \n",
       "1  321520618 2023-01-01 00:17:55.509366779         Delivered   \n",
       "2  321520615 2023-01-01 00:06:16.751226144         Delivered   \n",
       "3  321520614 2023-01-01 00:07:13.392937318         Delivered   \n",
       "4  321520613 2023-01-01 00:07:33.244922300         Delivered   \n",
       "\n",
       "      order_placed_at  \n",
       "0 2022-12-31 23:57:59  \n",
       "1 2022-12-31 23:57:59  \n",
       "2 2022-12-31 23:47:48  \n",
       "3 2022-12-31 23:49:52  \n",
       "4 2022-12-31 23:45:10  "
      ]
     },
     "execution_count": 305,
     "metadata": {},
     "output_type": "execute_result"
    }
   ],
   "source": [
    "merged_df.head()"
   ]
  },
  {
   "cell_type": "code",
   "execution_count": 307,
   "id": "0e76a48c-7507-4741-a772-7947e6daf95f",
   "metadata": {},
   "outputs": [],
   "source": [
    "#Calculate the time difference in minutes (delivery_time in minutes)\n",
    "merged_df['delivery_time_minutes'] = (merged_df['time_stamp'] - merged_df['order_placed_at']).dt.total_seconds() / 60"
   ]
  },
  {
   "cell_type": "code",
   "execution_count": 309,
   "id": "d6628b13-aedc-4ef6-9e26-94df1089340d",
   "metadata": {},
   "outputs": [
    {
     "data": {
      "text/html": [
       "<div>\n",
       "<style scoped>\n",
       "    .dataframe tbody tr th:only-of-type {\n",
       "        vertical-align: middle;\n",
       "    }\n",
       "\n",
       "    .dataframe tbody tr th {\n",
       "        vertical-align: top;\n",
       "    }\n",
       "\n",
       "    .dataframe thead th {\n",
       "        text-align: right;\n",
       "    }\n",
       "</style>\n",
       "<table border=\"1\" class=\"dataframe\">\n",
       "  <thead>\n",
       "    <tr style=\"text-align: right;\">\n",
       "      <th></th>\n",
       "      <th>order_id</th>\n",
       "      <th>time_stamp</th>\n",
       "      <th>status</th>\n",
       "      <th>order_placed_at</th>\n",
       "      <th>delivery_time_minutes</th>\n",
       "    </tr>\n",
       "  </thead>\n",
       "  <tbody>\n",
       "    <tr>\n",
       "      <th>0</th>\n",
       "      <td>321520618</td>\n",
       "      <td>2023-01-01 00:02:59.000000000</td>\n",
       "      <td>Out For Delivery</td>\n",
       "      <td>2022-12-31 23:57:59</td>\n",
       "      <td>5.000000</td>\n",
       "    </tr>\n",
       "    <tr>\n",
       "      <th>1</th>\n",
       "      <td>321520618</td>\n",
       "      <td>2023-01-01 00:17:55.509366779</td>\n",
       "      <td>Delivered</td>\n",
       "      <td>2022-12-31 23:57:59</td>\n",
       "      <td>19.941823</td>\n",
       "    </tr>\n",
       "    <tr>\n",
       "      <th>2</th>\n",
       "      <td>321520615</td>\n",
       "      <td>2023-01-01 00:06:16.751226144</td>\n",
       "      <td>Delivered</td>\n",
       "      <td>2022-12-31 23:47:48</td>\n",
       "      <td>18.479187</td>\n",
       "    </tr>\n",
       "    <tr>\n",
       "      <th>3</th>\n",
       "      <td>321520614</td>\n",
       "      <td>2023-01-01 00:07:13.392937318</td>\n",
       "      <td>Delivered</td>\n",
       "      <td>2022-12-31 23:49:52</td>\n",
       "      <td>17.356549</td>\n",
       "    </tr>\n",
       "    <tr>\n",
       "      <th>4</th>\n",
       "      <td>321520613</td>\n",
       "      <td>2023-01-01 00:07:33.244922300</td>\n",
       "      <td>Delivered</td>\n",
       "      <td>2022-12-31 23:45:10</td>\n",
       "      <td>22.387415</td>\n",
       "    </tr>\n",
       "  </tbody>\n",
       "</table>\n",
       "</div>"
      ],
      "text/plain": [
       "    order_id                    time_stamp            status  \\\n",
       "0  321520618 2023-01-01 00:02:59.000000000  Out For Delivery   \n",
       "1  321520618 2023-01-01 00:17:55.509366779         Delivered   \n",
       "2  321520615 2023-01-01 00:06:16.751226144         Delivered   \n",
       "3  321520614 2023-01-01 00:07:13.392937318         Delivered   \n",
       "4  321520613 2023-01-01 00:07:33.244922300         Delivered   \n",
       "\n",
       "      order_placed_at  delivery_time_minutes  \n",
       "0 2022-12-31 23:57:59               5.000000  \n",
       "1 2022-12-31 23:57:59              19.941823  \n",
       "2 2022-12-31 23:47:48              18.479187  \n",
       "3 2022-12-31 23:49:52              17.356549  \n",
       "4 2022-12-31 23:45:10              22.387415  "
      ]
     },
     "execution_count": 309,
     "metadata": {},
     "output_type": "execute_result"
    }
   ],
   "source": [
    "merged_df.head().head()"
   ]
  },
  {
   "cell_type": "code",
   "execution_count": 311,
   "id": "77194fa8-b0c3-41e4-8d7e-0363ccd84f26",
   "metadata": {},
   "outputs": [],
   "source": [
    "# Filter out late deliveries\n",
    "# Assume a late delivery is one where the delivery time exceeds 30 minutes\n",
    "late_deliveries = merged_df[(merged_df['status'] == 'Delivered') & (merged_df['delivery_time_minutes'] > 30)]"
   ]
  },
  {
   "cell_type": "code",
   "execution_count": 313,
   "id": "227f135d-dfbb-4005-a002-cca0c546ee23",
   "metadata": {},
   "outputs": [
    {
     "data": {
      "text/html": [
       "<div>\n",
       "<style scoped>\n",
       "    .dataframe tbody tr th:only-of-type {\n",
       "        vertical-align: middle;\n",
       "    }\n",
       "\n",
       "    .dataframe tbody tr th {\n",
       "        vertical-align: top;\n",
       "    }\n",
       "\n",
       "    .dataframe thead th {\n",
       "        text-align: right;\n",
       "    }\n",
       "</style>\n",
       "<table border=\"1\" class=\"dataframe\">\n",
       "  <thead>\n",
       "    <tr style=\"text-align: right;\">\n",
       "      <th></th>\n",
       "      <th>order_id</th>\n",
       "      <th>time_stamp</th>\n",
       "      <th>status</th>\n",
       "      <th>order_placed_at</th>\n",
       "      <th>delivery_time_minutes</th>\n",
       "    </tr>\n",
       "  </thead>\n",
       "  <tbody>\n",
       "    <tr>\n",
       "      <th>282</th>\n",
       "      <td>321520710</td>\n",
       "      <td>2023-01-01 07:13:53.796142791</td>\n",
       "      <td>Delivered</td>\n",
       "      <td>2023-01-01 06:43:17</td>\n",
       "      <td>30.613269</td>\n",
       "    </tr>\n",
       "    <tr>\n",
       "      <th>495</th>\n",
       "      <td>321520781</td>\n",
       "      <td>2023-01-01 12:21:27.548250439</td>\n",
       "      <td>Delivered</td>\n",
       "      <td>2023-01-01 11:50:08</td>\n",
       "      <td>31.325804</td>\n",
       "    </tr>\n",
       "    <tr>\n",
       "      <th>789</th>\n",
       "      <td>321520881</td>\n",
       "      <td>2023-01-01 16:09:22.481604124</td>\n",
       "      <td>Delivered</td>\n",
       "      <td>2023-01-01 15:32:36</td>\n",
       "      <td>36.774693</td>\n",
       "    </tr>\n",
       "    <tr>\n",
       "      <th>903</th>\n",
       "      <td>321520917</td>\n",
       "      <td>2023-01-01 18:05:14.271442042</td>\n",
       "      <td>Delivered</td>\n",
       "      <td>2023-01-01 17:33:28</td>\n",
       "      <td>31.771191</td>\n",
       "    </tr>\n",
       "    <tr>\n",
       "      <th>996</th>\n",
       "      <td>321520947</td>\n",
       "      <td>2023-01-01 19:33:06.691488219</td>\n",
       "      <td>Delivered</td>\n",
       "      <td>2023-01-01 19:01:40</td>\n",
       "      <td>31.444858</td>\n",
       "    </tr>\n",
       "  </tbody>\n",
       "</table>\n",
       "</div>"
      ],
      "text/plain": [
       "      order_id                    time_stamp     status     order_placed_at  \\\n",
       "282  321520710 2023-01-01 07:13:53.796142791  Delivered 2023-01-01 06:43:17   \n",
       "495  321520781 2023-01-01 12:21:27.548250439  Delivered 2023-01-01 11:50:08   \n",
       "789  321520881 2023-01-01 16:09:22.481604124  Delivered 2023-01-01 15:32:36   \n",
       "903  321520917 2023-01-01 18:05:14.271442042  Delivered 2023-01-01 17:33:28   \n",
       "996  321520947 2023-01-01 19:33:06.691488219  Delivered 2023-01-01 19:01:40   \n",
       "\n",
       "     delivery_time_minutes  \n",
       "282              30.613269  \n",
       "495              31.325804  \n",
       "789              36.774693  \n",
       "903              31.771191  \n",
       "996              31.444858  "
      ]
     },
     "execution_count": 313,
     "metadata": {},
     "output_type": "execute_result"
    }
   ],
   "source": [
    "late_deliveries.head()"
   ]
  },
  {
   "cell_type": "code",
   "execution_count": 315,
   "id": "b3c5ab05-131e-41f7-96cb-1d8efbd88ca6",
   "metadata": {},
   "outputs": [],
   "source": [
    "#Join with orderitems to get the ordered items for late deliveries\n",
    "late_orders_with_items = pd.merge(late_deliveries, order_items_df, on='order_id')"
   ]
  },
  {
   "cell_type": "code",
   "execution_count": 317,
   "id": "f8cc46d7-1266-47f7-8a1c-e9f612ab85c1",
   "metadata": {},
   "outputs": [
    {
     "data": {
      "text/html": [
       "<div>\n",
       "<style scoped>\n",
       "    .dataframe tbody tr th:only-of-type {\n",
       "        vertical-align: middle;\n",
       "    }\n",
       "\n",
       "    .dataframe tbody tr th {\n",
       "        vertical-align: top;\n",
       "    }\n",
       "\n",
       "    .dataframe thead th {\n",
       "        text-align: right;\n",
       "    }\n",
       "</style>\n",
       "<table border=\"1\" class=\"dataframe\">\n",
       "  <thead>\n",
       "    <tr style=\"text-align: right;\">\n",
       "      <th></th>\n",
       "      <th>order_id</th>\n",
       "      <th>time_stamp</th>\n",
       "      <th>status</th>\n",
       "      <th>order_placed_at</th>\n",
       "      <th>delivery_time_minutes</th>\n",
       "      <th>items_ordered</th>\n",
       "    </tr>\n",
       "  </thead>\n",
       "  <tbody>\n",
       "    <tr>\n",
       "      <th>0</th>\n",
       "      <td>321520710</td>\n",
       "      <td>2023-01-01 07:13:53.796142791</td>\n",
       "      <td>Delivered</td>\n",
       "      <td>2023-01-01 06:43:17</td>\n",
       "      <td>30.613269</td>\n",
       "      <td>['p_020', 'p_030', 'p_037']</td>\n",
       "    </tr>\n",
       "    <tr>\n",
       "      <th>1</th>\n",
       "      <td>321520781</td>\n",
       "      <td>2023-01-01 12:21:27.548250439</td>\n",
       "      <td>Delivered</td>\n",
       "      <td>2023-01-01 11:50:08</td>\n",
       "      <td>31.325804</td>\n",
       "      <td>['p_003', 'p_023']</td>\n",
       "    </tr>\n",
       "    <tr>\n",
       "      <th>2</th>\n",
       "      <td>321520881</td>\n",
       "      <td>2023-01-01 16:09:22.481604124</td>\n",
       "      <td>Delivered</td>\n",
       "      <td>2023-01-01 15:32:36</td>\n",
       "      <td>36.774693</td>\n",
       "      <td>['p_023', 'p_005', 'p_037']</td>\n",
       "    </tr>\n",
       "    <tr>\n",
       "      <th>3</th>\n",
       "      <td>321520917</td>\n",
       "      <td>2023-01-01 18:05:14.271442042</td>\n",
       "      <td>Delivered</td>\n",
       "      <td>2023-01-01 17:33:28</td>\n",
       "      <td>31.771191</td>\n",
       "      <td>['p_019', 'p_035', 'p_037']</td>\n",
       "    </tr>\n",
       "    <tr>\n",
       "      <th>4</th>\n",
       "      <td>321520947</td>\n",
       "      <td>2023-01-01 19:33:06.691488219</td>\n",
       "      <td>Delivered</td>\n",
       "      <td>2023-01-01 19:01:40</td>\n",
       "      <td>31.444858</td>\n",
       "      <td>['p_034', 'p_024', 'p_037']</td>\n",
       "    </tr>\n",
       "  </tbody>\n",
       "</table>\n",
       "</div>"
      ],
      "text/plain": [
       "    order_id                    time_stamp     status     order_placed_at  \\\n",
       "0  321520710 2023-01-01 07:13:53.796142791  Delivered 2023-01-01 06:43:17   \n",
       "1  321520781 2023-01-01 12:21:27.548250439  Delivered 2023-01-01 11:50:08   \n",
       "2  321520881 2023-01-01 16:09:22.481604124  Delivered 2023-01-01 15:32:36   \n",
       "3  321520917 2023-01-01 18:05:14.271442042  Delivered 2023-01-01 17:33:28   \n",
       "4  321520947 2023-01-01 19:33:06.691488219  Delivered 2023-01-01 19:01:40   \n",
       "\n",
       "   delivery_time_minutes                items_ordered  \n",
       "0              30.613269  ['p_020', 'p_030', 'p_037']  \n",
       "1              31.325804           ['p_003', 'p_023']  \n",
       "2              36.774693  ['p_023', 'p_005', 'p_037']  \n",
       "3              31.771191  ['p_019', 'p_035', 'p_037']  \n",
       "4              31.444858  ['p_034', 'p_024', 'p_037']  "
      ]
     },
     "execution_count": 317,
     "metadata": {},
     "output_type": "execute_result"
    }
   ],
   "source": [
    "late_orders_with_items.head()"
   ]
  },
  {
   "cell_type": "code",
   "execution_count": 319,
   "id": "93526c29-89c2-4741-94d8-d0a602ad9ad2",
   "metadata": {},
   "outputs": [],
   "source": [
    "# Convert Items_ordered string representation of lists to actual lists if necessary\n",
    "if isinstance(late_orders_with_items['items_ordered'].iloc[0], str):\n",
    "    late_orders_with_items['items_ordered'] = late_orders_with_items['items_ordered'].apply(eval)"
   ]
  },
  {
   "cell_type": "code",
   "execution_count": 321,
   "id": "dea96316-9290-49ef-aa13-f4da5047c897",
   "metadata": {},
   "outputs": [],
   "source": [
    "#Explode the Items_ordered column to get individual items in each row\n",
    "late_orders_with_items_exploded = late_orders_with_items.explode('items_ordered')"
   ]
  },
  {
   "cell_type": "code",
   "execution_count": 323,
   "id": "f71bba2d-7632-4b57-8eac-ac1530314d1b",
   "metadata": {},
   "outputs": [
    {
     "data": {
      "text/html": [
       "<div>\n",
       "<style scoped>\n",
       "    .dataframe tbody tr th:only-of-type {\n",
       "        vertical-align: middle;\n",
       "    }\n",
       "\n",
       "    .dataframe tbody tr th {\n",
       "        vertical-align: top;\n",
       "    }\n",
       "\n",
       "    .dataframe thead th {\n",
       "        text-align: right;\n",
       "    }\n",
       "</style>\n",
       "<table border=\"1\" class=\"dataframe\">\n",
       "  <thead>\n",
       "    <tr style=\"text-align: right;\">\n",
       "      <th></th>\n",
       "      <th>item_id</th>\n",
       "      <th>category</th>\n",
       "      <th>Item</th>\n",
       "      <th>Size</th>\n",
       "      <th>Price</th>\n",
       "    </tr>\n",
       "  </thead>\n",
       "  <tbody>\n",
       "    <tr>\n",
       "      <th>0</th>\n",
       "      <td>p_001</td>\n",
       "      <td>Veg</td>\n",
       "      <td>Margherita</td>\n",
       "      <td>Regular</td>\n",
       "      <td>109</td>\n",
       "    </tr>\n",
       "    <tr>\n",
       "      <th>1</th>\n",
       "      <td>p_002</td>\n",
       "      <td>Veg</td>\n",
       "      <td>Margherita</td>\n",
       "      <td>Medium</td>\n",
       "      <td>245</td>\n",
       "    </tr>\n",
       "    <tr>\n",
       "      <th>2</th>\n",
       "      <td>p_003</td>\n",
       "      <td>Veg</td>\n",
       "      <td>Margherita</td>\n",
       "      <td>Large</td>\n",
       "      <td>455</td>\n",
       "    </tr>\n",
       "    <tr>\n",
       "      <th>3</th>\n",
       "      <td>p_004</td>\n",
       "      <td>Veg</td>\n",
       "      <td>Double Cheese Margherita</td>\n",
       "      <td>Regular</td>\n",
       "      <td>215</td>\n",
       "    </tr>\n",
       "    <tr>\n",
       "      <th>4</th>\n",
       "      <td>p_005</td>\n",
       "      <td>Veg</td>\n",
       "      <td>Double Cheese Margherita</td>\n",
       "      <td>Medium</td>\n",
       "      <td>385</td>\n",
       "    </tr>\n",
       "  </tbody>\n",
       "</table>\n",
       "</div>"
      ],
      "text/plain": [
       "  item_id category                      Item     Size  Price\n",
       "0   p_001      Veg                Margherita  Regular    109\n",
       "1   p_002      Veg                Margherita   Medium    245\n",
       "2   p_003      Veg                Margherita    Large    455\n",
       "3   p_004      Veg  Double Cheese Margherita  Regular    215\n",
       "4   p_005      Veg  Double Cheese Margherita   Medium    385"
      ]
     },
     "execution_count": 323,
     "metadata": {},
     "output_type": "execute_result"
    }
   ],
   "source": [
    "products_df.head()"
   ]
  },
  {
   "cell_type": "code",
   "execution_count": 325,
   "id": "6375d133-e7b6-483c-878e-03a65288fcb4",
   "metadata": {},
   "outputs": [],
   "source": [
    "#Join with products to get the prices of the items ordered\n",
    "final_df = pd.merge(late_orders_with_items_exploded, products_df, left_on='items_ordered', right_on='item_id')"
   ]
  },
  {
   "cell_type": "code",
   "execution_count": 327,
   "id": "72e649ef-8d7c-4770-bfb6-1fa9afbdf926",
   "metadata": {},
   "outputs": [
    {
     "data": {
      "text/html": [
       "<div>\n",
       "<style scoped>\n",
       "    .dataframe tbody tr th:only-of-type {\n",
       "        vertical-align: middle;\n",
       "    }\n",
       "\n",
       "    .dataframe tbody tr th {\n",
       "        vertical-align: top;\n",
       "    }\n",
       "\n",
       "    .dataframe thead th {\n",
       "        text-align: right;\n",
       "    }\n",
       "</style>\n",
       "<table border=\"1\" class=\"dataframe\">\n",
       "  <thead>\n",
       "    <tr style=\"text-align: right;\">\n",
       "      <th></th>\n",
       "      <th>order_id</th>\n",
       "      <th>time_stamp</th>\n",
       "      <th>status</th>\n",
       "      <th>order_placed_at</th>\n",
       "      <th>delivery_time_minutes</th>\n",
       "      <th>items_ordered</th>\n",
       "      <th>item_id</th>\n",
       "      <th>category</th>\n",
       "      <th>Item</th>\n",
       "      <th>Size</th>\n",
       "      <th>Price</th>\n",
       "    </tr>\n",
       "  </thead>\n",
       "  <tbody>\n",
       "    <tr>\n",
       "      <th>0</th>\n",
       "      <td>321520710</td>\n",
       "      <td>2023-01-01 07:13:53.796142791</td>\n",
       "      <td>Delivered</td>\n",
       "      <td>2023-01-01 06:43:17</td>\n",
       "      <td>30.613269</td>\n",
       "      <td>p_020</td>\n",
       "      <td>p_020</td>\n",
       "      <td>Non Veg</td>\n",
       "      <td>Chicken Golden Delight</td>\n",
       "      <td>Medium</td>\n",
       "      <td>499</td>\n",
       "    </tr>\n",
       "    <tr>\n",
       "      <th>1</th>\n",
       "      <td>321523844</td>\n",
       "      <td>2023-01-07 10:17:39.894128522</td>\n",
       "      <td>Delivered</td>\n",
       "      <td>2023-01-07 09:47:24</td>\n",
       "      <td>30.264902</td>\n",
       "      <td>p_020</td>\n",
       "      <td>p_020</td>\n",
       "      <td>Non Veg</td>\n",
       "      <td>Chicken Golden Delight</td>\n",
       "      <td>Medium</td>\n",
       "      <td>499</td>\n",
       "    </tr>\n",
       "    <tr>\n",
       "      <th>2</th>\n",
       "      <td>321525806</td>\n",
       "      <td>2023-01-11 14:29:26.682538409</td>\n",
       "      <td>Delivered</td>\n",
       "      <td>2023-01-11 13:59:22</td>\n",
       "      <td>30.078042</td>\n",
       "      <td>p_020</td>\n",
       "      <td>p_020</td>\n",
       "      <td>Non Veg</td>\n",
       "      <td>Chicken Golden Delight</td>\n",
       "      <td>Medium</td>\n",
       "      <td>499</td>\n",
       "    </tr>\n",
       "    <tr>\n",
       "      <th>3</th>\n",
       "      <td>321527280</td>\n",
       "      <td>2023-01-14 17:29:41.131003440</td>\n",
       "      <td>Delivered</td>\n",
       "      <td>2023-01-14 16:54:16</td>\n",
       "      <td>35.418850</td>\n",
       "      <td>p_020</td>\n",
       "      <td>p_020</td>\n",
       "      <td>Non Veg</td>\n",
       "      <td>Chicken Golden Delight</td>\n",
       "      <td>Medium</td>\n",
       "      <td>499</td>\n",
       "    </tr>\n",
       "    <tr>\n",
       "      <th>4</th>\n",
       "      <td>321530066</td>\n",
       "      <td>2023-01-21 23:06:44.471199612</td>\n",
       "      <td>Delivered</td>\n",
       "      <td>2023-01-21 22:34:13</td>\n",
       "      <td>32.524520</td>\n",
       "      <td>p_020</td>\n",
       "      <td>p_020</td>\n",
       "      <td>Non Veg</td>\n",
       "      <td>Chicken Golden Delight</td>\n",
       "      <td>Medium</td>\n",
       "      <td>499</td>\n",
       "    </tr>\n",
       "  </tbody>\n",
       "</table>\n",
       "</div>"
      ],
      "text/plain": [
       "    order_id                    time_stamp     status     order_placed_at  \\\n",
       "0  321520710 2023-01-01 07:13:53.796142791  Delivered 2023-01-01 06:43:17   \n",
       "1  321523844 2023-01-07 10:17:39.894128522  Delivered 2023-01-07 09:47:24   \n",
       "2  321525806 2023-01-11 14:29:26.682538409  Delivered 2023-01-11 13:59:22   \n",
       "3  321527280 2023-01-14 17:29:41.131003440  Delivered 2023-01-14 16:54:16   \n",
       "4  321530066 2023-01-21 23:06:44.471199612  Delivered 2023-01-21 22:34:13   \n",
       "\n",
       "   delivery_time_minutes items_ordered item_id category  \\\n",
       "0              30.613269         p_020   p_020  Non Veg   \n",
       "1              30.264902         p_020   p_020  Non Veg   \n",
       "2              30.078042         p_020   p_020  Non Veg   \n",
       "3              35.418850         p_020   p_020  Non Veg   \n",
       "4              32.524520         p_020   p_020  Non Veg   \n",
       "\n",
       "                     Item    Size  Price  \n",
       "0  Chicken Golden Delight  Medium    499  \n",
       "1  Chicken Golden Delight  Medium    499  \n",
       "2  Chicken Golden Delight  Medium    499  \n",
       "3  Chicken Golden Delight  Medium    499  \n",
       "4  Chicken Golden Delight  Medium    499  "
      ]
     },
     "execution_count": 327,
     "metadata": {},
     "output_type": "execute_result"
    }
   ],
   "source": [
    "final_df.head(5)"
   ]
  },
  {
   "cell_type": "code",
   "execution_count": 329,
   "id": "a7b3a9b7-759e-416b-890e-3a7b9bee45dd",
   "metadata": {},
   "outputs": [
    {
     "name": "stdout",
     "output_type": "stream",
     "text": [
      "Total refund amount for late deliveries in 2023: $1826393\n"
     ]
    }
   ],
   "source": [
    "#Calculate total refund amount for late deliveries\n",
    "# Assuming the refund is the full price of the items in case of late delivery\n",
    "total_refund = final_df['Price'].sum()\n",
    "\n",
    "print(f\"Total refund amount for late deliveries in 2023: ${total_refund}\")"
   ]
  },
  {
   "cell_type": "markdown",
   "id": "da0c1348-75a8-4575-afae-c0e654d84c55",
   "metadata": {},
   "source": [
    "###### <b>Question_7 - What is the total amount Pizza store lost in 2023 due to refunds on late deliveries?</b>\n",
    "###### Answer - Yhe total amount Pizza store lost in 2023 due to refunds on late deliveries $1826393"
   ]
  },
  {
   "cell_type": "code",
   "execution_count": 332,
   "id": "77a5e7ce-a508-4095-a241-851d342fd9cc",
   "metadata": {},
   "outputs": [
    {
     "data": {
      "text/html": [
       "<div>\n",
       "<style scoped>\n",
       "    .dataframe tbody tr th:only-of-type {\n",
       "        vertical-align: middle;\n",
       "    }\n",
       "\n",
       "    .dataframe tbody tr th {\n",
       "        vertical-align: top;\n",
       "    }\n",
       "\n",
       "    .dataframe thead th {\n",
       "        text-align: right;\n",
       "    }\n",
       "</style>\n",
       "<table border=\"1\" class=\"dataframe\">\n",
       "  <thead>\n",
       "    <tr style=\"text-align: right;\">\n",
       "      <th></th>\n",
       "      <th>order_id</th>\n",
       "      <th>time_stamp</th>\n",
       "      <th>status</th>\n",
       "    </tr>\n",
       "  </thead>\n",
       "  <tbody>\n",
       "    <tr>\n",
       "      <th>0</th>\n",
       "      <td>321230114</td>\n",
       "      <td>2020-12-11 00:01:29.000000000</td>\n",
       "      <td>Pending</td>\n",
       "    </tr>\n",
       "    <tr>\n",
       "      <th>1</th>\n",
       "      <td>321230114</td>\n",
       "      <td>2020-12-11 00:06:29.000000000</td>\n",
       "      <td>Out For Delivery</td>\n",
       "    </tr>\n",
       "    <tr>\n",
       "      <th>2</th>\n",
       "      <td>321230114</td>\n",
       "      <td>2020-12-11 00:19:13.299151076</td>\n",
       "      <td>Delivered</td>\n",
       "    </tr>\n",
       "    <tr>\n",
       "      <th>3</th>\n",
       "      <td>321230115</td>\n",
       "      <td>2020-12-11 00:36:02.000000000</td>\n",
       "      <td>Pending</td>\n",
       "    </tr>\n",
       "    <tr>\n",
       "      <th>4</th>\n",
       "      <td>321230115</td>\n",
       "      <td>2020-12-11 00:41:02.000000000</td>\n",
       "      <td>Out For Delivery</td>\n",
       "    </tr>\n",
       "  </tbody>\n",
       "</table>\n",
       "</div>"
      ],
      "text/plain": [
       "    order_id                    time_stamp            status\n",
       "0  321230114 2020-12-11 00:01:29.000000000           Pending\n",
       "1  321230114 2020-12-11 00:06:29.000000000  Out For Delivery\n",
       "2  321230114 2020-12-11 00:19:13.299151076         Delivered\n",
       "3  321230115 2020-12-11 00:36:02.000000000           Pending\n",
       "4  321230115 2020-12-11 00:41:02.000000000  Out For Delivery"
      ]
     },
     "execution_count": 332,
     "metadata": {},
     "output_type": "execute_result"
    }
   ],
   "source": [
    "deliveries_df.head()"
   ]
  },
  {
   "cell_type": "code",
   "execution_count": 334,
   "id": "2175f1a5-6896-45c8-a610-43be9eb64dd8",
   "metadata": {},
   "outputs": [
    {
     "data": {
      "text/html": [
       "<div>\n",
       "<style scoped>\n",
       "    .dataframe tbody tr th:only-of-type {\n",
       "        vertical-align: middle;\n",
       "    }\n",
       "\n",
       "    .dataframe tbody tr th {\n",
       "        vertical-align: top;\n",
       "    }\n",
       "\n",
       "    .dataframe thead th {\n",
       "        text-align: right;\n",
       "    }\n",
       "</style>\n",
       "<table border=\"1\" class=\"dataframe\">\n",
       "  <thead>\n",
       "    <tr style=\"text-align: right;\">\n",
       "      <th></th>\n",
       "      <th>order_id</th>\n",
       "      <th>order_placed_at</th>\n",
       "    </tr>\n",
       "  </thead>\n",
       "  <tbody>\n",
       "    <tr>\n",
       "      <th>0</th>\n",
       "      <td>321230114</td>\n",
       "      <td>2020-12-11 00:01:29</td>\n",
       "    </tr>\n",
       "    <tr>\n",
       "      <th>1</th>\n",
       "      <td>321230115</td>\n",
       "      <td>2020-12-11 00:36:02</td>\n",
       "    </tr>\n",
       "    <tr>\n",
       "      <th>2</th>\n",
       "      <td>321230116</td>\n",
       "      <td>2020-12-11 00:55:01</td>\n",
       "    </tr>\n",
       "    <tr>\n",
       "      <th>3</th>\n",
       "      <td>321230117</td>\n",
       "      <td>2020-12-11 01:05:27</td>\n",
       "    </tr>\n",
       "    <tr>\n",
       "      <th>4</th>\n",
       "      <td>321230118</td>\n",
       "      <td>2020-12-11 01:14:20</td>\n",
       "    </tr>\n",
       "  </tbody>\n",
       "</table>\n",
       "</div>"
      ],
      "text/plain": [
       "    order_id     order_placed_at\n",
       "0  321230114 2020-12-11 00:01:29\n",
       "1  321230115 2020-12-11 00:36:02\n",
       "2  321230116 2020-12-11 00:55:01\n",
       "3  321230117 2020-12-11 01:05:27\n",
       "4  321230118 2020-12-11 01:14:20"
      ]
     },
     "execution_count": 334,
     "metadata": {},
     "output_type": "execute_result"
    }
   ],
   "source": [
    "orders_df.head()"
   ]
  },
  {
   "cell_type": "code",
   "execution_count": 336,
   "id": "441f0f1f-f16b-4521-a9b1-a872c3f46b65",
   "metadata": {},
   "outputs": [],
   "source": [
    "#Merge deliveries and orders to get the orderPlacedAt timestamp\n",
    "merged_df1 = pd.merge(deliveries_df, orders_df, on='order_id')"
   ]
  },
  {
   "cell_type": "code",
   "execution_count": 338,
   "id": "b6d5aa7e-aa25-445b-b6a7-fa08a1d71201",
   "metadata": {},
   "outputs": [
    {
     "data": {
      "text/html": [
       "<div>\n",
       "<style scoped>\n",
       "    .dataframe tbody tr th:only-of-type {\n",
       "        vertical-align: middle;\n",
       "    }\n",
       "\n",
       "    .dataframe tbody tr th {\n",
       "        vertical-align: top;\n",
       "    }\n",
       "\n",
       "    .dataframe thead th {\n",
       "        text-align: right;\n",
       "    }\n",
       "</style>\n",
       "<table border=\"1\" class=\"dataframe\">\n",
       "  <thead>\n",
       "    <tr style=\"text-align: right;\">\n",
       "      <th></th>\n",
       "      <th>order_id</th>\n",
       "      <th>time_stamp</th>\n",
       "      <th>status</th>\n",
       "      <th>order_placed_at</th>\n",
       "    </tr>\n",
       "  </thead>\n",
       "  <tbody>\n",
       "    <tr>\n",
       "      <th>0</th>\n",
       "      <td>321230114</td>\n",
       "      <td>2020-12-11 00:01:29.000000000</td>\n",
       "      <td>Pending</td>\n",
       "      <td>2020-12-11 00:01:29</td>\n",
       "    </tr>\n",
       "    <tr>\n",
       "      <th>1</th>\n",
       "      <td>321230114</td>\n",
       "      <td>2020-12-11 00:06:29.000000000</td>\n",
       "      <td>Out For Delivery</td>\n",
       "      <td>2020-12-11 00:01:29</td>\n",
       "    </tr>\n",
       "    <tr>\n",
       "      <th>2</th>\n",
       "      <td>321230114</td>\n",
       "      <td>2020-12-11 00:19:13.299151076</td>\n",
       "      <td>Delivered</td>\n",
       "      <td>2020-12-11 00:01:29</td>\n",
       "    </tr>\n",
       "    <tr>\n",
       "      <th>3</th>\n",
       "      <td>321230115</td>\n",
       "      <td>2020-12-11 00:36:02.000000000</td>\n",
       "      <td>Pending</td>\n",
       "      <td>2020-12-11 00:36:02</td>\n",
       "    </tr>\n",
       "    <tr>\n",
       "      <th>4</th>\n",
       "      <td>321230115</td>\n",
       "      <td>2020-12-11 00:41:02.000000000</td>\n",
       "      <td>Out For Delivery</td>\n",
       "      <td>2020-12-11 00:36:02</td>\n",
       "    </tr>\n",
       "  </tbody>\n",
       "</table>\n",
       "</div>"
      ],
      "text/plain": [
       "    order_id                    time_stamp            status  \\\n",
       "0  321230114 2020-12-11 00:01:29.000000000           Pending   \n",
       "1  321230114 2020-12-11 00:06:29.000000000  Out For Delivery   \n",
       "2  321230114 2020-12-11 00:19:13.299151076         Delivered   \n",
       "3  321230115 2020-12-11 00:36:02.000000000           Pending   \n",
       "4  321230115 2020-12-11 00:41:02.000000000  Out For Delivery   \n",
       "\n",
       "      order_placed_at  \n",
       "0 2020-12-11 00:01:29  \n",
       "1 2020-12-11 00:01:29  \n",
       "2 2020-12-11 00:01:29  \n",
       "3 2020-12-11 00:36:02  \n",
       "4 2020-12-11 00:36:02  "
      ]
     },
     "execution_count": 338,
     "metadata": {},
     "output_type": "execute_result"
    }
   ],
   "source": [
    "merged_df1.head()"
   ]
  },
  {
   "cell_type": "code",
   "execution_count": 340,
   "id": "a3aa3b7e-f7fb-492e-80bb-1f3c5e048573",
   "metadata": {},
   "outputs": [],
   "source": [
    "#Calculate the time difference in minutes (delivery_time in minutes)\n",
    "# merged_df1['delivery_time_minutes'] = (merged_df1['time_stamp'] - merged_df1['order_placed_at']).dt.total_seconds() / 60\n",
    "#Filter out late deliveries (more than 30 minutes)\n",
    "# late_deliveries1 = merged_df1[(merged_df1['status'] == 'Delivered') & (merged_df1['delivery_time_minutes'] > 30)]\n",
    "#Join with orderitems to get the ordered items for late deliveries\n",
    "# late_orders_with_items1 = pd.merge(late_deliveries1, order_items_df, on='order_id')\n",
    "#Convert Items_ordered string representation of lists to actual lists if necessary\n",
    "# if isinstance(late_orders_with_items1['items_ordered'].iloc[0], str):\n",
    "#     late_orders_with_items1['items_ordered'] = late_orders_with_items1['items_ordered'].apply(eval)\n",
    "\n",
    "#Explode the Items_ordered column to get individual items in each row\n",
    "# late_orders_with_items_exploded1 = late_orders_with_items1.explode('items_ordered')\n",
    "\n",
    "#Join with products to get the prices of the items ordered\n",
    "# final_df1 = pd.merge(late_orders_with_items_exploded1, products_df, left_on='items_ordered', right_on='item_id')\n",
    "\n",
    "#Extract the year from the orderPlacedAt timestamp\n",
    "# final_df1['year'] = final_df1['order_placed_at'].dt.year\n",
    "\n",
    "#Calculate the total refund amount for each year\n",
    "#Assuming the refund is the full price of the items in case of late delivery\n",
    "# refunds_per_year = final_df1.groupby('year')['Price'].sum().reset_index()\n",
    "\n",
    "#Find the year with the maximum refund amount\n",
    "# max_refund_year = refunds_per_year.loc[refunds_per_year['Price'].idxmax()]\n",
    "\n",
    "# print(f\"The year with the maximum refund due to late deliveries: {max_refund_year['year']}\")\n",
    "# print(f\"Total refund amount in that year: ${max_refund_year['Price']}\")"
   ]
  },
  {
   "cell_type": "code",
   "execution_count": 342,
   "id": "7e08b210-faad-4f7a-97a6-7d2be1f2b132",
   "metadata": {},
   "outputs": [
    {
     "name": "stdout",
     "output_type": "stream",
     "text": [
      "The year with the maximum refund due to late deliveries: 2023\n",
      "Total refund amount in that year: $1826393\n"
     ]
    }
   ],
   "source": [
    "#Extract the year from the orderPlacedAt timestamp\n",
    "final_df['year'] = final_df['order_placed_at'].dt.year\n",
    "#Calculate the total refund amount for each year\n",
    "#Assuming the refund is the full price of the items in case of late delivery\n",
    "refunds_per_year = final_df.groupby('year')['Price'].sum().reset_index()\n",
    "\n",
    "#Find the year with the maximum refund amount\n",
    "max_refund_year = refunds_per_year.loc[refunds_per_year['Price'].idxmax()]\n",
    "\n",
    "print(f\"The year with the maximum refund due to late deliveries: {max_refund_year['year']}\")\n",
    "print(f\"Total refund amount in that year: ${max_refund_year['Price']}\")"
   ]
  },
  {
   "cell_type": "markdown",
   "id": "d3dc21c4-8cb1-47d6-b947-00754511c58d",
   "metadata": {},
   "source": [
    "###### <b>Question_8 - In which year Pizza store has lost maximum amount due to refunds on late deliveries?</b>\n",
    "###### Answer - The year with the maximum refund amount due to late deliveries: 2023 ($1826393)"
   ]
  },
  {
   "cell_type": "code",
   "execution_count": 355,
   "id": "fa333450-c867-4905-861f-a989702ee0f8",
   "metadata": {},
   "outputs": [
    {
     "data": {
      "text/html": [
       "<div>\n",
       "<style scoped>\n",
       "    .dataframe tbody tr th:only-of-type {\n",
       "        vertical-align: middle;\n",
       "    }\n",
       "\n",
       "    .dataframe tbody tr th {\n",
       "        vertical-align: top;\n",
       "    }\n",
       "\n",
       "    .dataframe thead th {\n",
       "        text-align: right;\n",
       "    }\n",
       "</style>\n",
       "<table border=\"1\" class=\"dataframe\">\n",
       "  <thead>\n",
       "    <tr style=\"text-align: right;\">\n",
       "      <th></th>\n",
       "      <th>order_id</th>\n",
       "      <th>items_ordered</th>\n",
       "    </tr>\n",
       "  </thead>\n",
       "  <tbody>\n",
       "    <tr>\n",
       "      <th>0</th>\n",
       "      <td>321230114</td>\n",
       "      <td>[p_025, p_032, p_037]</td>\n",
       "    </tr>\n",
       "    <tr>\n",
       "      <th>1</th>\n",
       "      <td>321230115</td>\n",
       "      <td>[p_017, p_012]</td>\n",
       "    </tr>\n",
       "    <tr>\n",
       "      <th>2</th>\n",
       "      <td>321230116</td>\n",
       "      <td>[p_027, p_037]</td>\n",
       "    </tr>\n",
       "    <tr>\n",
       "      <th>3</th>\n",
       "      <td>321230117</td>\n",
       "      <td>[p_004, p_029]</td>\n",
       "    </tr>\n",
       "    <tr>\n",
       "      <th>4</th>\n",
       "      <td>321230118</td>\n",
       "      <td>[p_017, p_037]</td>\n",
       "    </tr>\n",
       "  </tbody>\n",
       "</table>\n",
       "</div>"
      ],
      "text/plain": [
       "    order_id          items_ordered\n",
       "0  321230114  [p_025, p_032, p_037]\n",
       "1  321230115         [p_017, p_012]\n",
       "2  321230116         [p_027, p_037]\n",
       "3  321230117         [p_004, p_029]\n",
       "4  321230118         [p_017, p_037]"
      ]
     },
     "execution_count": 355,
     "metadata": {},
     "output_type": "execute_result"
    }
   ],
   "source": [
    "order_items_df.head()"
   ]
  },
  {
   "cell_type": "code",
   "execution_count": 381,
   "id": "61eabeed-3e68-4422-ae98-98fede162751",
   "metadata": {},
   "outputs": [
    {
     "name": "stdout",
     "output_type": "stream",
     "text": [
      "Total revenue generated by the pizza store till date: $407834487\n"
     ]
    }
   ],
   "source": [
    "#Fix 'items_ordered' column by applying eval() only to strings\n",
    "def convert_to_list(items):\n",
    "    if isinstance(items, str):\n",
    "        return eval(items)  # Convert string representation of list to actual list\n",
    "    return items  # If already a list, return as is\n",
    "\n",
    "order_items_df['items_ordered'] = order_items_df['items_ordered'].apply(convert_to_list)\n",
    "\n",
    "#Explode the 'Items_ordered' column to match individual items\n",
    "orderitems_exploded = order_items_df.explode('items_ordered')\n",
    "\n",
    "#Merge orderitems with products to get the prices of the items ordered\n",
    "all_orders_with_prices = pd.merge(orderitems_exploded, products_df, left_on='items_ordered', right_on='item_id')\n",
    "\n",
    "\n",
    "#Calculate total revenue by summing the price of all ordered items\n",
    "total_revenue = all_orders_with_prices['Price'].sum()\n",
    "\n",
    "# Output the total revenue\n",
    "print(f\"Total revenue generated by the pizza store till date: ${total_revenue}\")"
   ]
  },
  {
   "cell_type": "code",
   "execution_count": 385,
   "id": "6a1f3c21-ce81-461d-8937-872f27492802",
   "metadata": {},
   "outputs": [],
   "source": [
    "#Identify late deliveries (calculate refund amount)\n",
    "# Merge deliveries with orders to calculate delivery times\n",
    "merged_df = pd.merge(deliveries_df, orders_df, on='order_id')\n",
    "merged_df['delivery_time_minutes'] = (merged_df['time_stamp'] - merged_df['order_placed_at']).dt.total_seconds() / 60\n",
    "\n",
    "# Filter out late deliveries\n",
    "late_deliveries = merged_df[(merged_df['status'] == 'Delivered') & (merged_df['delivery_time_minutes'] > 30)]\n",
    "\n",
    "# Join with orderitems to get ordered items for late deliveries\n",
    "late_orders_with_items = pd.merge(late_deliveries, order_items_df, on='order_id')\n",
    "\n",
    "# Explode the Items_ordered column for late deliveries\n",
    "late_orders_with_items_exploded = late_orders_with_items.explode('items_ordered')\n",
    "\n",
    "# Merge with products to get the prices of items in late deliveries\n",
    "late_orders_with_prices = pd.merge(late_orders_with_items_exploded, products_df, left_on='items_ordered', right_on='item_id')\n",
    "\n",
    "#Calculate total refund amount for late deliveries\n",
    "total_refund = late_orders_with_prices['Price'].sum()"
   ]
  },
  {
   "cell_type": "code",
   "execution_count": 389,
   "id": "9884667a-ef5c-4082-a0e1-32d91b9791da",
   "metadata": {},
   "outputs": [
    {
     "name": "stdout",
     "output_type": "stream",
     "text": [
      "407834487\n",
      "5524431\n"
     ]
    }
   ],
   "source": [
    "print(total_revenue)\n",
    "print(total_refund)"
   ]
  },
  {
   "cell_type": "code",
   "execution_count": 393,
   "id": "40ac7050-24e5-4ecf-930d-260c381b8845",
   "metadata": {},
   "outputs": [
    {
     "name": "stdout",
     "output_type": "stream",
     "text": [
      "Total revenue generated by the pizza store till date (excluding refunds): $402310056\n"
     ]
    }
   ],
   "source": [
    "#Calculate net revenue by subtracting refunds from total revenue\n",
    "net_revenue = total_revenue - total_refund\n",
    "\n",
    "print(f\"Total revenue generated by the pizza store till date (excluding refunds): ${net_revenue}\")"
   ]
  },
  {
   "cell_type": "markdown",
   "id": "cd8f4eaa-b59f-43b2-ad78-5ad586daee0b",
   "metadata": {},
   "source": [
    "###### <b>Question_9 - How much revenue is generated by the pizza store till date? Don't include the refund amount in revenue.</b>\n",
    "###### Answer - Total revenue generated by the pizza store till date (excluding refunds): $402310056"
   ]
  },
  {
   "cell_type": "markdown",
   "id": "d314d0d1-4501-417c-82e1-8ba30f7a10c2",
   "metadata": {},
   "source": [
    "#### BONUS QUESTION "
   ]
  },
  {
   "cell_type": "code",
   "execution_count": 397,
   "id": "5a3713bc-5dec-4c0f-8d81-38e3c1d4e8a0",
   "metadata": {},
   "outputs": [],
   "source": [
    "import matplotlib.pyplot as plt\n",
    "import seaborn as sns\n",
    "from scipy.stats import poisson"
   ]
  },
  {
   "cell_type": "code",
   "execution_count": 415,
   "id": "db6b8e29-59b7-4bbc-9502-946007434df2",
   "metadata": {},
   "outputs": [
    {
     "name": "stdout",
     "output_type": "stream",
     "text": [
      "             date  hour  order_count\n",
      "0      2020-12-11     0            2\n",
      "1      2020-12-11     1            5\n",
      "2      2020-12-11     2            4\n",
      "3      2020-12-11     3            5\n",
      "4      2020-12-11     4            9\n",
      "...           ...   ...          ...\n",
      "27459  2024-01-31    20           16\n",
      "27460  2024-01-31    21            9\n",
      "27461  2024-01-31    22            8\n",
      "27462  2024-01-31    23            8\n",
      "27463  2024-02-01     0            2\n",
      "\n",
      "[27464 rows x 3 columns]\n"
     ]
    }
   ],
   "source": [
    "#Filter deliveries with \"Delivered\" status and make an explicit copy\n",
    "#delivered_orders = deliveries_df[deliveries_df['status'] == 'Delivered'].copy()\n",
    "\n",
    "# Extract the date and hour of delivery\n",
    "delivered_orders['hour'] = delivered_orders['time_stamp'].dt.hour\n",
    "delivered_orders['date'] = delivered_orders['time_stamp'].dt.date\n",
    "\n",
    "# Group by date and hour to get the number of orders per hour\n",
    "#to get the number of orders made in each hour of the day across different days\n",
    "orders_per_hour = delivered_orders.groupby(['date', 'hour']).size().reset_index(name='order_count')\n",
    "print(orders_per_hour)"
   ]
  },
  {
   "cell_type": "code",
   "execution_count": 417,
   "id": "67f3adf4-2d67-48e5-a601-c9d78fd713c0",
   "metadata": {},
   "outputs": [
    {
     "name": "stdout",
     "output_type": "stream",
     "text": [
      "Estimated average number of orders per hour (lambda): 16.54\n"
     ]
    }
   ],
   "source": [
    "#Fit Poisson Distribution\n",
    "\n",
    "# Calculate the average number of orders per hour\n",
    "lambda_est = orders_per_hour['order_count'].mean()\n",
    "print(f\"Estimated average number of orders per hour (lambda): {lambda_est:.2f}\")"
   ]
  },
  {
   "cell_type": "code",
   "execution_count": 421,
   "id": "c8cba613-7bdf-4d77-893f-aff4eb34a129",
   "metadata": {},
   "outputs": [
    {
     "data": {
      "image/png": "[encoded data removed]",
      "text/plain": [
       "<Figure size 600x400 with 1 Axes>"
      ]
     },
     "metadata": {},
     "output_type": "display_data"
    }
   ],
   "source": [
    "# Plot the observed number of orders per hour\n",
    "plt.figure(figsize=(6,4))\n",
    "sns.histplot(orders_per_hour['order_count'], bins=range(0, max(orders_per_hour['order_count'])+2), kde=False, stat='probability', color='blue')\n",
    "plt.title(\"Observed Distribution of Orders Per Hour\")\n",
    "plt.xlabel(\"Number of Orders Per Hour\")\n",
    "plt.ylabel(\"Probability\")\n",
    "plt.show()"
   ]
  },
  {
   "cell_type": "markdown",
   "id": "fe6f1fe1-7ecd-4065-8dbb-a1aad9996cbc",
   "metadata": {},
   "source": [
    "##### Insight:\n",
    "* The distribution is narrow, the number of orders per hour is fairly consistent.\n",
    "* It indicates consistent demand, and the store can optimize with fixed scheduling."
   ]
  },
  {
   "cell_type": "code",
   "execution_count": 423,
   "id": "f4e8a517-f39a-4fe2-8e53-ad0cf7afef0f",
   "metadata": {},
   "outputs": [
    {
     "data": {
      "image/png": "[encoded data removed]",
      "text/plain": [
       "<Figure size 1000x600 with 1 Axes>"
      ]
     },
     "metadata": {},
     "output_type": "display_data"
    }
   ],
   "source": [
    "#Poisson Distribution Comparison\n",
    "\n",
    "# Generate Poisson distribution probabilities based on the estimated lambda\n",
    "x = np.arange(0, max(orders_per_hour['order_count']) + 1)\n",
    "poisson_probs = poisson.pmf(x, lambda_est)\n",
    "\n",
    "# Plot the Poisson distribution and compare with observed data\n",
    "plt.figure(figsize=(10, 6))\n",
    "sns.histplot(orders_per_hour['order_count'], bins=range(0, max(orders_per_hour['order_count'])+2), kde=False, stat='probability', color='blue', label='Observed')\n",
    "plt.plot(x, poisson_probs, 'r-', lw=2, label=f'Poisson Distribution (lambda={lambda_est:.2f})')\n",
    "plt.title(\"Observed Orders vs. Poisson Distribution\")\n",
    "plt.xlabel(\"Number of Orders Per Hour\")\n",
    "plt.ylabel(\"Probability\")\n",
    "plt.legend()\n",
    "plt.show()"
   ]
  },
  {
   "cell_type": "markdown",
   "id": "5ebedc89-3ea5-4611-9bf4-afb4c82fc926",
   "metadata": {},
   "source": [
    "##### Insight:\n",
    "* The two plots(blue histogram and red line) align well, the assumption that orders per hour follow a Poisson process is validated,\n",
    "  meaning order volume is random but occurs at a constant rate."
   ]
  },
  {
   "cell_type": "code",
   "execution_count": 427,
   "id": "f0b1d87b-65e1-4b43-bac6-70b84d61368e",
   "metadata": {},
   "outputs": [
    {
     "data": {
      "image/png": "[encoded data removed]",
      "text/plain": [
       "<Figure size 600x400 with 1 Axes>"
      ]
     },
     "metadata": {},
     "output_type": "display_data"
    }
   ],
   "source": [
    "#Analyze Daily and Hourly Trends\n",
    "# Group by hour to find average orders per hour over multiple days\n",
    "hourly_avg_orders = orders_per_hour.groupby('hour')['order_count'].mean()\n",
    "\n",
    "plt.figure(figsize=(6,4))\n",
    "hourly_avg_orders.plot(kind='bar', color='orange')\n",
    "plt.title(\"Average Orders Per Hour (Across Days)\")\n",
    "plt.xlabel(\"Hour of the Day\")\n",
    "plt.ylabel(\"Average Number of Orders\")\n",
    "plt.show()"
   ]
  },
  {
   "cell_type": "markdown",
   "id": "9c34e09a-f5f2-4e06-aced-151ce4fc9723",
   "metadata": {},
   "source": [
    "##### Insight: \n",
    "* Helps to identify peak and off-peak hours.\n",
    "* From 3PM to 6PM(Peak order time)  is the time when more orders are placed.\n",
    "* Before and after the above time range orders get decreased gradually.\n",
    "* This information helps the owner plan for staffing and kitchen efficiency during these hours."
   ]
  },
  {
   "cell_type": "code",
   "execution_count": 445,
   "id": "070e1193-e11d-4228-a692-8dd3902acfcb",
   "metadata": {},
   "outputs": [
    {
     "data": {
      "image/png": "[encoded data removed]",
      "text/plain": [
       "<Figure size 1000x800 with 1 Axes>"
      ]
     },
     "metadata": {},
     "output_type": "display_data"
    }
   ],
   "source": [
    "#Group by day to analyze total orders per day\n",
    "daily_orders = delivered_orders.groupby('date').size().reset_index(name='total_orders')\n",
    "\n",
    "plt.figure(figsize=(10,8))\n",
    "plt.plot(daily_orders['date'], daily_orders['total_orders'], marker='o', color='green')\n",
    "plt.title(\"Total Orders Per Day\")\n",
    "plt.xlabel(\"Date\")\n",
    "plt.ylabel(\"Total Number of Orders\")\n",
    "plt.xticks(rotation=45)\n",
    "plt.show()\n",
    "\n",
    "\n"
   ]
  },
  {
   "cell_type": "markdown",
   "id": "17a56a36-9e86-4262-ad44-025f8b565949",
   "metadata": {},
   "source": [
    "##### Insight: \n",
    "* Shows the total number of orders received each day, providing whether certain days have more orders\n",
    "* There is some significant drops in number of orders in some days-\n",
    "* Suggested to run promotions or discounts to boost sales during low periods."
   ]
  },
  {
   "cell_type": "markdown",
   "id": "3d12dbb8-4ef4-4084-96c4-7d62e1dc49e8",
   "metadata": {},
   "source": [
    "###### <b>Question_10 - (BONUS QUESTION) Which distribution can be used to model the number of orders incoming each hour? If we can somehow model it, which problem for owner of Pizza Store can be solved? </b>\n"
   ]
  },
  {
   "cell_type": "markdown",
   "id": "806d6138-6018-4568-9edb-e58456e90725",
   "metadata": {},
   "source": [
    "###### Answer:\n",
    "###### (a)\n",
    "* To model the number of orders incoming each hour, <b>\"Poisson distribution\"</b> is a commonly used statistical distribution.\n",
    "* Several key operational problems for the owner of the pizza store can be addressed:\n",
    "   * Delivery Time Optimization\n",
    "   * Customer Experience and Satisfaction\n",
    "   * Capacity Planning\n",
    "   * Staffing Optimization\n",
    "   * Resource Management\n",
    "   * Improved Forecasting and Demand Planning\n",
    "\n",
    "###### (b)\n",
    "###### <b>More details</b>\n",
    "* By predicting the number of orders in each hour, the owner can allocate more delivery drivers during peak times, ensuring that deliveries are made promptly. Additionally, if orders are expected to be low during certain hours, fewer drivers can be assigned, reducing unnecessary costs while still maintaining efficiency.\n",
    "* By modeling the order rate, the owner can recognize when the kitchen or delivery fleet may become overloaded and plan ahead. For example, they might invest in more ovens, hire more staff, or use third-party delivery services during peak periods.\n",
    "* If the model predicts high order volumes during lunch and dinner hours, the owner can increase staff during those periods and reduce staff during slower times.\n",
    "* For instance, during periods with higher predicted order volumes, more ingredients can be stocked to avoid shortages. Conversely, for low-demand periods, the owner can reduce the inventory to minimize waste.\n",
    "* By using a Poisson distribution model to predict incoming orders, the owner can plan marketing strategies better. For example, if certain hours of the day consistently show low order volumes, the owner can introduce discounts or special offers during these times to increase demand and balance the order flow.\n",
    "* The owner can forecast revenue and costs more accurately, enabling better financial planning."
   ]
  },
  {
   "cell_type": "markdown",
   "id": "eb2986ce-7cd1-4cd1-a243-3c6e1afc2ee3",
   "metadata": {},
   "source": [
    "###### Other Note: \n",
    "* Apart from the Poisson distribution, there are other statistical and machine learning approaches that could be used to model the number of incoming orders per hour\n",
    "i.e. Time series models like ARIMA (AutoRegressive Integrated Moving Average) or SARIMA (Seasonal ARIMA),Linear/Logistic Regression, etc considering to some different context of the Pizza order problem.\n",
    "But most of the required questions are answered with poisson distribution."
   ]
  },
  {
   "cell_type": "markdown",
   "id": "f121dfd7-936a-4a04-9518-879e8fbe58bf",
   "metadata": {},
   "source": [
    "###### Hope this will help you and give solutions to improving business to some extent! \n",
    "### THANK YOU "
   ]
  },
  {
   "cell_type": "code",
   "execution_count": null,
   "id": "6d0d0809-391b-4ff3-9270-9756434825d1",
   "metadata": {},
   "outputs": [],
   "source": []
  }
 ],
 "metadata": {
  "kernelspec": {
   "display_name": "Python 3 (ipykernel)",
   "language": "python",
   "name": "python3"
  },
  "language_info": {
   "codemirror_mode": {
    "name": "ipython",
    "version": 3
   },
   "file_extension": ".py",
   "mimetype": "text/x-python",
   "name": "python",
   "nbconvert_exporter": "python",
   "pygments_lexer": "ipython3",
   "version": "3.11.5"
  }
 },
 "nbformat": 4,
 "nbformat_minor": 5
}
